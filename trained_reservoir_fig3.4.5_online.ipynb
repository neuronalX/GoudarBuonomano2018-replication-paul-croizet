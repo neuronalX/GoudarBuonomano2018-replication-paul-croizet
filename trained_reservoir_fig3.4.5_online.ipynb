{
 "cells": [
  {
   "cell_type": "code",
   "execution_count": 1,
   "id": "9cbdd40e",
   "metadata": {
    "scrolled": true
   },
   "outputs": [],
   "source": [
    "from functions_trained_reservoir import *\n",
    "\n",
    "from reservoirpy.nodes import Reservoir,FORCE,Ridge\n",
    "from reservoirpy.mat_gen import Initializer,_scale_spectral_radius\n",
    "from reservoirpy.observables import spectral_radius\n",
    "from tqdm import tqdm\n",
    "\n",
    "from ReccurentNetwork import *\n",
    "\n",
    "import numpy as np\n",
    "from numpy.linalg import eig\n",
    "\n",
    "import spicy as sp\n",
    "import matplotlib.pyplot as plt"
   ]
  },
  {
   "cell_type": "markdown",
   "id": "766c116a",
   "metadata": {},
   "source": [
    "# Réseaux de neurones"
   ]
  },
  {
   "cell_type": "markdown",
   "id": "2de295eb",
   "metadata": {},
   "source": [
    "On cherche ici dans un premier temps à reprdoduire les figures les plus simples de l'article. \n",
    "\n",
    "Les mesures de l'article sont effectuées sur 2 réservoirs : \n",
    "\n",
    "  - le premier est dit entrainé : on va alors entrainer le réservoir et la sortie\n",
    "  - le second lui est dit non entrainé : on entraine seulement la sortie\n",
    "    \n",
    "\n",
    "Ce premier script s'intéresse donc à la reproduction de l'entrainement des figures 3, 4 et 5 ainsi qu'aux résultas obtenus sur un réservoir entrainé.\n",
    " \n",
    "La librairie utilisé pour entrainer le réservoir est prise dans autre article ReScience : https://github.com/ReScience-Archives/Vitay-2016\n",
    "\n",
    "Copyright (c) 2016 Julien Vitay julien.vitay@informatik.tu-chemnitz.de"
   ]
  },
  {
   "cell_type": "markdown",
   "id": "c3de139b",
   "metadata": {},
   "source": [
    "## Expériences"
   ]
  },
  {
   "cell_type": "markdown",
   "id": "cc245ab9",
   "metadata": {},
   "source": [
    "Deux expériences quasiment similaires sont proposés pour un réservoir totalement entrainé. La seule différence entre ces dernières sont le nombre de neurones utilisés dans le réservoir : \n",
    "\n",
    "   - Soit N = 2100 pour des résultats robustes entre toutes les données pour un sujet\n",
    "   - Soit N = 4000 pour des résultats robustes entre tous les sujets (5 au maximum)\n",
    "    \n",
    "Nous traiterons le premier  cas dans ce papier.\n",
    "\n",
    "##### Méthode d'entrainement\n",
    "\n",
    "Pour ce qui est de l'entrainement du réservoir nous allons procéder en 2 étapes. En effet, nous séparons notre entrée en deux parties : l'époque sensorielle et l'époque motricielle. Nous séparons l'entrainement de ces 2 époques que je vais détailler ci dessous.\n",
    "\n",
    "###### Epoque sensorielle : \n",
    "\n",
    "Pour un sujet donné et parmit toutes les entrées différentes, pour chaque chiffre on selectionne une entrée moyenne. Cette entrée est injectée dans le réservoir sans bruit et sans target, on obtient alors une trajectoire resultante de dimension (??) pour chaque chiffre. Ces 10 trajectoires sont appelées les \"innate trajectories\" et seront les targets pour toutes les autres entrées durant l'entrainement du l'époque sensorielle en faisant bien attention à  ce que la dimension d'entrée des nouvelles entrées soit cohérente avec celle de l'innate trajectorie, on procédera alors pas une déformation linéaire de l'innate trajectory. De plus, du bruit sera présent durant l'entrainement.\n",
    "\n",
    "###### Epoque motrice\n",
    "\n",
    "target = une target par chiffre peu importe l'entrée ou le sujet\n",
    "c'est quoi la target ?? \n",
    "comprends la transition de 300 ms aussi\n"
   ]
  },
  {
   "cell_type": "markdown",
   "id": "a6d87665",
   "metadata": {},
   "source": [
    "###### Test\n",
    "Les test effectués dans ce script seront fait sur le sujet 1"
   ]
  },
  {
   "cell_type": "markdown",
   "id": "1779b4b6",
   "metadata": {},
   "source": [
    "Données générales "
   ]
  },
  {
   "cell_type": "code",
   "execution_count": 2,
   "id": "1df91934",
   "metadata": {},
   "outputs": [],
   "source": [
    "data = extract_data() #Données d'entrée\n",
    "transcription = extract_target() #Données d'arrivée \n",
    "\n",
    "#Les données suivantes sont utilisés dans les fonctions mais pas dans le script ! \n",
    "\n",
    "freq_ent = 6*10**3  #fréquence d'entrée\n",
    "T_ent = 1/freq_ent  #période d'entrée\n",
    "\n",
    "freq_out = 10**3 #fréquence de sortie \n",
    "T_out = 1/freq_out #période de sortie\n",
    "\n",
    "ampl_int = 5 #Amplitude d'entrée"
   ]
  },
  {
   "cell_type": "markdown",
   "id": "3bdf2895",
   "metadata": {},
   "source": [
    "Données du réservoir"
   ]
  },
  {
   "cell_type": "code",
   "execution_count": 3,
   "id": "a2cdcbe3",
   "metadata": {},
   "outputs": [],
   "source": [
    "N = 2100 #Nombre de neurones dans le réservoir\n",
    "M = 12 #Nombres d'entrées\n",
    "No = 3 #Nombres de sorties\n",
    "tau = 25*10e-3\n",
    "dt = 1e-3\n",
    "lr = dt/tau\n",
    "sr = 1.6 #spectral radius --> gain ?\n",
    "g = 1.6 #le gain du réseau ?                             #je comprends pas trop cette donnée. \n",
    "pc = 0.2 # connectivité entre les neurones (pc dans l'article)\n",
    "SD = g/np.sqrt(pc*N)\n",
    "mu = 0\n",
    "I0 = 0.05 #Bruit dans le réservoir\n",
    "\n",
    "Wo = normal(No,N,loc=mu,scale = 1/np.sqrt(N))    #Matrice de sortie : Non utilisée\n"
   ]
  },
  {
   "cell_type": "markdown",
   "id": "c61bdeef",
   "metadata": {},
   "source": [
    "Création de la matrice du réservoir : avec pas d'autapse\n",
    "Puis bricolage pour réxupérer le rayon spectral voulu"
   ]
  },
  {
   "cell_type": "code",
   "execution_count": 4,
   "id": "83bb14d4",
   "metadata": {
    "scrolled": false
   },
   "outputs": [],
   "source": [
    "W_r.init = Initializer(W_r)\n",
    "\n",
    "W = _scale_spectral_radius(W_r.init, [N,N], sr)\n",
    "W = W.toarray()\n",
    "\n",
    "#Vérification du rayon spectral\n",
    "\n",
    "#a,b=eig(W)\n",
    "#print(np.max(np.abs(a)))\n"
   ]
  },
  {
   "cell_type": "markdown",
   "id": "b563f7ac",
   "metadata": {},
   "source": [
    "Création de la matrice d'entrée : chaque entrée k est projetée sur le neurone $(k-1)\\frac{N}{M} + 1$ jusqu'au neurone $k\\frac{N}{M}$ selon une loi normale "
   ]
  },
  {
   "cell_type": "code",
   "execution_count": 5,
   "id": "c5b2f3ff",
   "metadata": {
    "scrolled": true
   },
   "outputs": [],
   "source": [
    "Win = W_in(N,M)"
   ]
  },
  {
   "cell_type": "markdown",
   "id": "1741fc12",
   "metadata": {},
   "source": [
    "### Epoque sensorielle "
   ]
  },
  {
   "cell_type": "markdown",
   "id": "97c54d12",
   "metadata": {},
   "source": [
    "Récupération des cocleograms avec une taille moyenne pour chaque chiffre "
   ]
  },
  {
   "cell_type": "code",
   "execution_count": 6,
   "id": "1d0b5796",
   "metadata": {},
   "outputs": [],
   "source": [
    "median_entrance_cocleogram = median_cocleogram(data,sujet=[1])"
   ]
  },
  {
   "cell_type": "markdown",
   "id": "44b93150",
   "metadata": {},
   "source": [
    "Création du réservoir"
   ]
  },
  {
   "cell_type": "code",
   "execution_count": 7,
   "id": "bfb1936b",
   "metadata": {},
   "outputs": [],
   "source": [
    "network = RecurrentNetwork(\n",
    "    W_in = Win,\n",
    "    W_rec = W,\n",
    "    W_out = Wo,\n",
    "    Ni = M, # Number of inputs\n",
    "    N = N, # Number of recurrent neurons\n",
    "    No = No, # Number of read-out neurons\n",
    "    tau = 25, # Time constant of the neurons\n",
    "    g = g, # Synaptic strength scaling\n",
    "    pc = pc, # Connection probability\n",
    "    Io = I0, # Noise variance\n",
    "    delta = 1.0, # Initial diagonal value of the P matrix                                 # ?\n",
    "    P_plastic = 0.6, # Percentage of neurons receiving plastic synapses                   # ?\n",
    ")"
   ]
  },
  {
   "cell_type": "markdown",
   "id": "b236964f",
   "metadata": {},
   "source": [
    "Détermination des trajectoires inées  "
   ]
  },
  {
   "cell_type": "code",
   "execution_count": 8,
   "id": "94f1c8c3",
   "metadata": {
    "scrolled": true
   },
   "outputs": [
    {
     "name": "stderr",
     "output_type": "stream",
     "text": [
      "100%|███████████████████████████████████████████████████████████████████████████████| 555/555 [00:00<00:00, 798.30it/s]\n",
      "100%|███████████████████████████████████████████████████████████████████████████████| 448/448 [00:00<00:00, 905.40it/s]\n",
      "100%|███████████████████████████████████████████████████████████████████████████████| 529/529 [00:00<00:00, 892.00it/s]\n",
      "100%|███████████████████████████████████████████████████████████████████████████████| 638/638 [00:00<00:00, 911.36it/s]\n",
      "100%|███████████████████████████████████████████████████████████████████████████████| 611/611 [00:00<00:00, 906.73it/s]\n",
      "100%|███████████████████████████████████████████████████████████████████████████████| 688/688 [00:00<00:00, 913.77it/s]\n",
      "100%|███████████████████████████████████████████████████████████████████████████████| 787/787 [00:00<00:00, 870.33it/s]\n",
      "100%|███████████████████████████████████████████████████████████████████████████████| 794/794 [00:00<00:00, 890.69it/s]\n",
      "100%|███████████████████████████████████████████████████████████████████████████████| 657/657 [00:00<00:00, 899.14it/s]\n",
      "100%|███████████████████████████████████████████████████████████████████████████████| 712/712 [00:00<00:00, 913.82it/s]\n"
     ]
    }
   ],
   "source": [
    "innate_trajectories_sensor = []\n",
    "innate_trajectories_motor = []\n",
    "for i in range(len(median_entrance_cocleogram)):\n",
    "    \n",
    "    #Récupération du cocleogram moyen\n",
    "    impulse = np.expand_dims(median_entrance_cocleogram[i], axis=2)\n",
    "    \n",
    "    #Récupération des trajectoires innées de l'époque sensorielle et de l'époque motricielle ???? \n",
    "    initial_trajectory, initial_output = network.simulate(stimulus=impulse, noise=False)\n",
    "    \n",
    "    #Ensuite on les trie\n",
    "    innate_trajectories_sensor.append(np.squeeze(initial_trajectory,axis = 2))\n",
    "    innate_trajectories_motor.append(np.squeeze(initial_output,axis = 2))"
   ]
  },
  {
   "cell_type": "markdown",
   "id": "851c15c7",
   "metadata": {},
   "source": [
    "#### Entrainement de l'epoque sensorielle."
   ]
  },
  {
   "cell_type": "markdown",
   "id": "da6a8114",
   "metadata": {},
   "source": [
    "Récupération des données d'entrées et des targets, ici on entraîne sur un sujet, 3 entrées et les 10 chiffres"
   ]
  },
  {
   "cell_type": "code",
   "execution_count": 9,
   "id": "a34adbba",
   "metadata": {},
   "outputs": [],
   "source": [
    "X_input = []\n",
    "X_target = []\n",
    "for indS in [1] : \n",
    "    for indU in range(1,4):\n",
    "        for indD in range(10):\n",
    "            X_input.append(np.expand_dims(np.transpose(cocleogram(indS, indU, indD,data)), axis=2))\n",
    "            X_target.append(np.expand_dims(linear_warping(indS,indU,indD,data,innate_trajectories_sensor[indD]),axis=2))\n",
    "\n",
    "step = len(X_target)  #Nombre d'entrainement à effectuer"
   ]
  },
  {
   "cell_type": "markdown",
   "id": "e5642fe7",
   "metadata": {},
   "source": [
    "Entrainement"
   ]
  },
  {
   "cell_type": "code",
   "execution_count": 10,
   "id": "d1c99488",
   "metadata": {},
   "outputs": [
    {
     "name": "stdout",
     "output_type": "stream",
     "text": [
      "531\n",
      "0\n"
     ]
    },
    {
     "name": "stderr",
     "output_type": "stream",
     "text": [
      "  3%|██▍                                                                              | 16/531 [00:07<04:12,  2.04it/s]\n"
     ]
    },
    {
     "ename": "KeyboardInterrupt",
     "evalue": "",
     "output_type": "error",
     "traceback": [
      "\u001b[1;31m---------------------------------------------------------------------------\u001b[0m",
      "\u001b[1;31mKeyboardInterrupt\u001b[0m                         Traceback (most recent call last)",
      "Input \u001b[1;32mIn [10]\u001b[0m, in \u001b[0;36m<cell line: 1>\u001b[1;34m()\u001b[0m\n\u001b[0;32m      5\u001b[0m \u001b[38;5;28mprint\u001b[39m(end)\n\u001b[0;32m      6\u001b[0m \u001b[38;5;28mprint\u001b[39m(i)\n\u001b[1;32m----> 8\u001b[0m \u001b[43mnetwork\u001b[49m\u001b[38;5;241;43m.\u001b[39;49m\u001b[43msimulate\u001b[49m\u001b[43m(\u001b[49m\u001b[43mstimulus\u001b[49m\u001b[38;5;241;43m=\u001b[39;49m\u001b[43mX_input\u001b[49m\u001b[43m[\u001b[49m\u001b[43mi\u001b[49m\u001b[43m]\u001b[49m\u001b[43m,\u001b[49m\n\u001b[0;32m      9\u001b[0m \u001b[43m             \u001b[49m\u001b[43mnoise\u001b[49m\u001b[43m \u001b[49m\u001b[38;5;241;43m=\u001b[39;49m\u001b[43m \u001b[49m\u001b[38;5;28;43;01mTrue\u001b[39;49;00m\u001b[43m,\u001b[49m\n\u001b[0;32m     10\u001b[0m \u001b[43m             \u001b[49m\u001b[43mtrajectory\u001b[49m\u001b[38;5;241;43m=\u001b[39;49m\u001b[43mX_target\u001b[49m\u001b[43m[\u001b[49m\u001b[43mi\u001b[49m\u001b[43m]\u001b[49m\u001b[43m,\u001b[49m\n\u001b[0;32m     11\u001b[0m \u001b[43m             \u001b[49m\u001b[43mlearn_start\u001b[49m\u001b[38;5;241;43m=\u001b[39;49m\u001b[38;5;241;43m0\u001b[39;49m\u001b[43m,\u001b[49m\n\u001b[0;32m     12\u001b[0m \u001b[43m             \u001b[49m\u001b[43mlearn_stop\u001b[49m\u001b[38;5;241;43m=\u001b[39;49m\u001b[43mend\u001b[49m\u001b[43m)\u001b[49m\n",
      "File \u001b[1;32m~\\Desktop\\Stage\\ReccurentNetwork.py:129\u001b[0m, in \u001b[0;36mRecurrentNetwork.simulate\u001b[1;34m(self, stimulus, noise, trajectory, learn_start, learn_stop, learn_readout, verbose)\u001b[0m\n\u001b[0;32m    127\u001b[0m \u001b[38;5;28;01mif\u001b[39;00m trajectory\u001b[38;5;241m.\u001b[39msize \u001b[38;5;241m>\u001b[39m \u001b[38;5;241m0\u001b[39m \u001b[38;5;129;01mand\u001b[39;00m t\u001b[38;5;241m>\u001b[39m\u001b[38;5;241m=\u001b[39mlearn_start \u001b[38;5;129;01mand\u001b[39;00m t\u001b[38;5;241m<\u001b[39mlearn_stop \u001b[38;5;129;01mand\u001b[39;00m t\u001b[38;5;241m%\u001b[39m\u001b[38;5;241m2\u001b[39m\u001b[38;5;241m==\u001b[39m\u001b[38;5;241m0\u001b[39m:\n\u001b[0;32m    128\u001b[0m     \u001b[38;5;28;01mif\u001b[39;00m \u001b[38;5;129;01mnot\u001b[39;00m learn_readout:\n\u001b[1;32m--> 129\u001b[0m         \u001b[38;5;28;43mself\u001b[39;49m\u001b[38;5;241;43m.\u001b[39;49m\u001b[43mrls_recurrent\u001b[49m\u001b[43m(\u001b[49m\u001b[43mtrajectory\u001b[49m\u001b[43m[\u001b[49m\u001b[43mt\u001b[49m\u001b[43m,\u001b[49m\u001b[43m \u001b[49m\u001b[43m:\u001b[49m\u001b[43m,\u001b[49m\u001b[43m \u001b[49m\u001b[43m:\u001b[49m\u001b[43m]\u001b[49m\u001b[43m)\u001b[49m\n\u001b[0;32m    130\u001b[0m     \u001b[38;5;28;01melse\u001b[39;00m:\n\u001b[0;32m    131\u001b[0m         \u001b[38;5;28mself\u001b[39m\u001b[38;5;241m.\u001b[39mrls_readout(trajectory[t, :, :])\n",
      "File \u001b[1;32m~\\Desktop\\Stage\\ReccurentNetwork.py:167\u001b[0m, in \u001b[0;36mRecurrentNetwork.rls_recurrent\u001b[1;34m(self, target)\u001b[0m\n\u001b[0;32m    165\u001b[0m r_plastic \u001b[38;5;241m=\u001b[39m \u001b[38;5;28mself\u001b[39m\u001b[38;5;241m.\u001b[39mr[\u001b[38;5;28mself\u001b[39m\u001b[38;5;241m.\u001b[39mW_plastic[i]]\n\u001b[0;32m    166\u001b[0m \u001b[38;5;66;03m# Multiply with the inverse correlation matrix P*R\u001b[39;00m\n\u001b[1;32m--> 167\u001b[0m PxR \u001b[38;5;241m=\u001b[39m \u001b[43mnp\u001b[49m\u001b[38;5;241;43m.\u001b[39;49m\u001b[43mdot\u001b[49m\u001b[43m(\u001b[49m\u001b[38;5;28;43mself\u001b[39;49m\u001b[38;5;241;43m.\u001b[39;49m\u001b[43mP\u001b[49m\u001b[43m[\u001b[49m\u001b[43mi\u001b[49m\u001b[43m]\u001b[49m\u001b[43m,\u001b[49m\u001b[43m \u001b[49m\u001b[43mr_plastic\u001b[49m\u001b[43m)\u001b[49m\n\u001b[0;32m    168\u001b[0m \u001b[38;5;66;03m# Normalization term 1 + R'*P*R\u001b[39;00m\n\u001b[0;32m    169\u001b[0m RxPxR \u001b[38;5;241m=\u001b[39m (\u001b[38;5;241m1.\u001b[39m \u001b[38;5;241m+\u001b[39m np\u001b[38;5;241m.\u001b[39mdot(r_plastic\u001b[38;5;241m.\u001b[39mT,  PxR))\n",
      "File \u001b[1;32m<__array_function__ internals>:180\u001b[0m, in \u001b[0;36mdot\u001b[1;34m(*args, **kwargs)\u001b[0m\n",
      "\u001b[1;31mKeyboardInterrupt\u001b[0m: "
     ]
    }
   ],
   "source": [
    "for i in range(step): \n",
    "    \n",
    "    end = np.shape(X_input[i])[0]\n",
    "    \n",
    "    print(end)\n",
    "    print(i)\n",
    "    \n",
    "    network.simulate(stimulus=X_input[i],\n",
    "                 noise = True,\n",
    "                 trajectory=X_target[i],\n",
    "                 learn_start=0,\n",
    "                 learn_stop=end)\n"
   ]
  },
  {
   "cell_type": "markdown",
   "id": "9ead61b2",
   "metadata": {},
   "source": [
    "Sauvegarde des données"
   ]
  },
  {
   "cell_type": "code",
   "execution_count": null,
   "id": "0d6312be",
   "metadata": {},
   "outputs": [],
   "source": [
    "network.save('network_fig345.npz')"
   ]
  },
  {
   "cell_type": "code",
   "execution_count": null,
   "id": "09ca8166",
   "metadata": {},
   "outputs": [],
   "source": [
    "from time import sleep\n",
    "from tqdm import tqdm\n",
    "for i in tqdm(range(10)):\n",
    "    sleep(0.2)"
   ]
  },
  {
   "cell_type": "code",
   "execution_count": 17,
   "id": "3a0e85d3",
   "metadata": {},
   "outputs": [],
   "source": [
    "reservoir = Reservoir(units = N,lr = lr,sr=sr,W=W_r.init,Win=Win,equation=\"external\",input_bias=False,noise_rc = I0)"
   ]
  },
  {
   "cell_type": "code",
   "execution_count": 85,
   "id": "79385da0",
   "metadata": {},
   "outputs": [],
   "source": [
    "N = 4\n",
    "\n",
    "W_r.init = Initializer(W_r)\n",
    "\n",
    "W = _scale_spectral_radius(W_r.init, [N,N], 1.0)\n",
    "W = W.toarray()\n",
    "\n",
    "Wo = normal(N,1,loc=mu,scale = 1/np.sqrt(N))\n",
    "\n",
    "Win = W_in(N,1)\n",
    "\n",
    "x = np.random.uniform(-1.0, 1.0, (N, 1))\n",
    "\n",
    "u = np.random.uniform(-1.0, 1.0, (N, 1))\n",
    "y_target = np.random.uniform(-1.0, 1.0, (N, 1))\n",
    "\n",
    "e = y_target - y\n",
    "r = np.tanh(x)\n",
    "\n",
    "P = np.identity(N)\n"
   ]
  },
  {
   "cell_type": "code",
   "execution_count": 86,
   "id": "62769ccc",
   "metadata": {},
   "outputs": [
    {
     "name": "stdout",
     "output_type": "stream",
     "text": [
      "[[-0.33201136]\n",
      " [-0.86242004]\n",
      " [ 1.82359531]\n",
      " [ 1.61344042]]\n",
      "[[-1.50450082]\n",
      " [-0.37381499]\n",
      " [-0.60264251]\n",
      " [-1.80833834]]\n"
     ]
    }
   ],
   "source": [
    "def _rls(P, x, e):\n",
    "    \"\"\"Recursive Least Squares learning rule.\"\"\"\n",
    "    k = np.dot(P, x)\n",
    "    xPx = np.dot(x.T, k)\n",
    "    c = float(1.0 / (1.0 + xPx))\n",
    "    P = P - c * np.outer(k, k)\n",
    "\n",
    "    dw = -c * np.outer(e, k)\n",
    "\n",
    "    return dw, P\n",
    "\n",
    "def x_kplus1(Win,u,W,x):\n",
    "    return np.tanh(np.dot(Win,u) + np.dot(W,x))\n",
    "\n",
    "def y_k(Wo,x_kplus1):\n",
    "    return np.dot(Wo,x_kplus1)\n",
    "\n",
    "def error(y,y_target):\n",
    "    return y - y_target\n",
    "\n",
    "\n",
    "x_1 = x_kplus1(Win,u,W,x)\n",
    "\n",
    "y_1 = y_k(Wo,x_1)\n",
    "e = error(y_1,y_target)\n",
    "\n",
    "print(e)\n",
    "\n",
    "dw,P = _rls(P,x_1,e)\n",
    "\n",
    "W -= dw\n",
    "\n",
    "x_2 = x_kplus1(Win,u,W,x_1)\n",
    "y_2 = y_k(Wo,x_2)\n",
    "e = error(y_2,y_target)\n",
    "\n",
    "print(e)\n",
    "\n",
    "dw,P = _rls(P,x_2,e)\n",
    "\n",
    "W -= dw\n",
    "\n"
   ]
  },
  {
   "cell_type": "code",
   "execution_count": 63,
   "id": "f7f87f07",
   "metadata": {},
   "outputs": [
    {
     "name": "stdout",
     "output_type": "stream",
     "text": [
      "[[ 0.72306831 -0.28072445  0.05308362 -0.28217433]\n",
      " [-0.28072445  0.71543085  0.05381064 -0.2860389 ]\n",
      " [ 0.05308362  0.05381064  0.98982467  0.05408856]\n",
      " [-0.28217433 -0.2860389   0.05408856  0.71248377]]\n",
      "[[ 0.7150435  -0.28885916  0.05462186 -0.29035106]\n",
      " [-0.28885916  0.70718472  0.05536994 -0.29432761]\n",
      " [ 0.05462186  0.05536994  0.98952981  0.05565592]\n",
      " [-0.29035106 -0.29432761  0.05565592  0.70415225]]\n"
     ]
    }
   ],
   "source": [
    "\n",
    "\n",
    "dw,P = _rls(P,r,e)"
   ]
  },
  {
   "cell_type": "code",
   "execution_count": 64,
   "id": "aa7ad5da",
   "metadata": {},
   "outputs": [
    {
     "name": "stdout",
     "output_type": "stream",
     "text": [
      "[[-0.3751006 ]\n",
      " [ 1.65180147]\n",
      " [ 1.13648591]\n",
      " [ 0.40238461]]\n"
     ]
    }
   ],
   "source": [
    "print(e)"
   ]
  },
  {
   "cell_type": "code",
   "execution_count": 87,
   "id": "21502bed",
   "metadata": {},
   "outputs": [
    {
     "data": {
      "text/plain": [
       "array([[-2.00109950e-01, -2.00109950e-01, -2.00735844e+05,\n",
       "        -8.12440969e+04],\n",
       "       [-1.29491738e+06,  1.53429642e-01,  5.99515621e-02,\n",
       "         2.21001985e-01],\n",
       "       [-5.89793556e-01, -5.89793556e-01, -3.49046635e-01,\n",
       "        -2.67775571e-01],\n",
       "       [-7.64724939e-01, -7.64724939e-01, -5.12283089e-01,\n",
       "        -5.42731779e-02]])"
      ]
     },
     "execution_count": 87,
     "metadata": {},
     "output_type": "execute_result"
    }
   ],
   "source": [
    "W"
   ]
  },
  {
   "cell_type": "code",
   "execution_count": 88,
   "id": "c291c687",
   "metadata": {},
   "outputs": [
    {
     "data": {
      "text/plain": [
       "array([[ 0.85933389],\n",
       "       [ 0.71632935],\n",
       "       [ 0.49512721],\n",
       "       [-0.77347201]])"
      ]
     },
     "execution_count": 88,
     "metadata": {},
     "output_type": "execute_result"
    }
   ],
   "source": [
    "x"
   ]
  },
  {
   "cell_type": "code",
   "execution_count": 90,
   "id": "4b5a11b6",
   "metadata": {},
   "outputs": [],
   "source": [
    "x = np.dot(W,x)"
   ]
  },
  {
   "cell_type": "code",
   "execution_count": null,
   "id": "3d43bd90",
   "metadata": {},
   "outputs": [],
   "source": []
  }
 ],
 "metadata": {
  "kernelspec": {
   "display_name": "Python 3 (ipykernel)",
   "language": "python",
   "name": "python3"
  },
  "language_info": {
   "codemirror_mode": {
    "name": "ipython",
    "version": 3
   },
   "file_extension": ".py",
   "mimetype": "text/x-python",
   "name": "python",
   "nbconvert_exporter": "python",
   "pygments_lexer": "ipython3",
   "version": "3.8.5"
  }
 },
 "nbformat": 4,
 "nbformat_minor": 5
}
