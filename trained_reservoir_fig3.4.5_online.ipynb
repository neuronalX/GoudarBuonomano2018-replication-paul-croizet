{
 "cells": [
  {
   "cell_type": "code",
   "execution_count": 1,
   "id": "9cbdd40e",
   "metadata": {
    "scrolled": true
   },
   "outputs": [],
   "source": [
    "from functions_trained_reservoir import *\n",
    "\n",
    "from reservoirpy.nodes import Reservoir,FORCE,Ridge\n",
    "from reservoirpy.mat_gen import Initializer,_scale_spectral_radius\n",
    "from reservoirpy.observables import spectral_radius\n",
    "from tqdm import tqdm\n",
    "\n",
    "from ReccurentNetwork import *\n",
    "\n",
    "import numpy as np\n",
    "from numpy.linalg import eig\n",
    "\n",
    "import spicy as sp\n",
    "import matplotlib.pyplot as plt"
   ]
  },
  {
   "cell_type": "markdown",
   "id": "766c116a",
   "metadata": {},
   "source": [
    "# Réseaux de neurones"
   ]
  },
  {
   "cell_type": "markdown",
   "id": "2de295eb",
   "metadata": {},
   "source": [
    "On cherche ici dans un premier temps à reprdoduire les figures les plus simples de l'article. \n",
    "\n",
    "Les mesures de l'article sont effectuées sur 2 réservoirs : \n",
    "\n",
    "  - le premier est dit entrainé : on va alors entrainer le réservoir et la sortie\n",
    "  - le second lui est dit non entrainé : on entraine seulement la sortie\n",
    "    \n",
    "\n",
    "Ce premier script s'intéresse donc à la reproduction de l'entrainement des figures 3, 4 et 5 ainsi qu'aux résultas obtenus sur un réservoir entrainé.\n",
    " \n",
    "La librairie utilisé pour entrainer le réservoir est prise dans autre article ReScience : https://github.com/ReScience-Archives/Vitay-2016\n",
    "\n",
    "Copyright (c) 2016 Julien Vitay julien.vitay@informatik.tu-chemnitz.de"
   ]
  },
  {
   "cell_type": "markdown",
   "id": "c3de139b",
   "metadata": {},
   "source": [
    "## Expériences"
   ]
  },
  {
   "cell_type": "markdown",
   "id": "cc245ab9",
   "metadata": {},
   "source": [
    "Deux expériences quasiment similaires sont proposés pour un réservoir totalement entrainé. La seule différence entre ces dernières sont le nombre de neurones utilisés dans le réservoir : \n",
    "\n",
    "   - Soit N = 2100 pour des résultats robustes entre toutes les données pour un sujet\n",
    "   - Soit N = 4000 pour des résultats robustes entre tous les sujets (5 au maximum)\n",
    "    \n",
    "Nous traiterons le premier  cas dans ce papier.\n",
    "\n",
    "##### Méthode d'entrainement\n",
    "\n",
    "Pour ce qui est de l'entrainement du réservoir nous allons procéder en 2 étapes. En effet, nous séparons notre entrée en deux parties : l'époque sensorielle et l'époque motricielle. Nous séparons l'entrainement de ces 2 époques que je vais détailler ci dessous.\n",
    "\n",
    "###### Epoque sensorielle : \n",
    "\n",
    "Pour un sujet donné et parmit toutes les entrées différentes, pour chaque chiffre on selectionne une entrée moyenne. Cette entrée est injectée dans le réservoir sans bruit et sans target, on obtient alors une trajectoire resultante de dimension (??) pour chaque chiffre. Ces 10 trajectoires sont appelées les \"innate trajectories\" et seront les targets pour toutes les autres entrées durant l'entrainement du l'époque sensorielle en faisant bien attention à  ce que la dimension d'entrée des nouvelles entrées soit cohérente avec celle de l'innate trajectorie, on procédera alors pas une déformation linéaire de l'innate trajectory. De plus, du bruit sera présent durant l'entrainement.\n",
    "\n",
    "###### Epoque motrice\n",
    "\n",
    "target = une target par chiffre peu importe l'entrée ou le sujet\n",
    "c'est quoi la target ?? \n",
    "comprends la transition de 300 ms aussi\n"
   ]
  },
  {
   "cell_type": "markdown",
   "id": "a6d87665",
   "metadata": {},
   "source": [
    "###### Test\n",
    "Les test effectués dans ce script seront fait sur le sujet 1"
   ]
  },
  {
   "cell_type": "markdown",
   "id": "1779b4b6",
   "metadata": {},
   "source": [
    "Données générales "
   ]
  },
  {
   "cell_type": "code",
   "execution_count": 2,
   "id": "1df91934",
   "metadata": {},
   "outputs": [],
   "source": [
    "data = extract_data() #Données d'entrée\n",
    "transcription = extract_target() #Données d'arrivée \n",
    "\n",
    "#Les données suivantes sont utilisés dans les fonctions mais pas dans le script ! \n",
    "\n",
    "freq_ent = 6*10**3  #fréquence d'entrée\n",
    "T_ent = 1/freq_ent  #période d'entrée\n",
    "\n",
    "freq_out = 10**3 #fréquence de sortie \n",
    "T_out = 1/freq_out #période de sortie\n",
    "\n",
    "ampl_int = 5 #Amplitude d'entrée"
   ]
  },
  {
   "cell_type": "markdown",
   "id": "3bdf2895",
   "metadata": {},
   "source": [
    "Données du réservoir"
   ]
  },
  {
   "cell_type": "code",
   "execution_count": 3,
   "id": "a2cdcbe3",
   "metadata": {},
   "outputs": [],
   "source": [
    "N = 100 #Nombre de neurones dans le réservoir\n",
    "M = 12 #Nombres d'entrées\n",
    "No = 3 #Nombres de sorties\n",
    "tau = 25*10e-3\n",
    "dt = 1e-3\n",
    "lr = dt/tau\n",
    "sr = 1.6 #spectral radius --> gain ?\n",
    "g = 1.6 #le gain du réseau ?                             #je comprends pas trop cette donnée. \n",
    "pc = 0.2 # connectivité entre les neurones (pc dans l'article)\n",
    "SD = g/np.sqrt(pc*N)\n",
    "mu = 0\n",
    "I0 = 0.05 #Bruit dans le réservoir\n",
    "\n",
    "Wo = normal(No,N,loc=mu,scale = 1/np.sqrt(N))    #Matrice de sortie : Non utilisée\n"
   ]
  },
  {
   "cell_type": "markdown",
   "id": "c61bdeef",
   "metadata": {},
   "source": [
    "Création de la matrice du réservoir : avec pas d'autapse\n",
    "Puis bricolage pour réxupérer le rayon spectral voulu"
   ]
  },
  {
   "cell_type": "code",
   "execution_count": 4,
   "id": "83bb14d4",
   "metadata": {
    "scrolled": false
   },
   "outputs": [],
   "source": [
    "W_r.init = Initializer(W_r)\n",
    "\n",
    "W = _scale_spectral_radius(W_r.init, [N,N], sr)\n",
    "W = W.toarray()\n",
    "\n",
    "#Vérification du rayon spectral\n",
    "\n",
    "#a,b=eig(W)\n",
    "#print(np.max(np.abs(a)))\n"
   ]
  },
  {
   "cell_type": "markdown",
   "id": "b563f7ac",
   "metadata": {},
   "source": [
    "Création de la matrice d'entrée : chaque entrée k est projetée sur le neurone $(k-1)\\frac{N}{M} + 1$ jusqu'au neurone $k\\frac{N}{M}$ selon une loi normale "
   ]
  },
  {
   "cell_type": "code",
   "execution_count": 5,
   "id": "c5b2f3ff",
   "metadata": {
    "scrolled": true
   },
   "outputs": [],
   "source": [
    "Win = W_in(N,M)"
   ]
  },
  {
   "cell_type": "markdown",
   "id": "1741fc12",
   "metadata": {},
   "source": [
    "### Epoque sensorielle "
   ]
  },
  {
   "cell_type": "markdown",
   "id": "97c54d12",
   "metadata": {},
   "source": [
    "Récupération des cocleograms avec une taille moyenne pour chaque chiffre "
   ]
  },
  {
   "cell_type": "code",
   "execution_count": 6,
   "id": "1d0b5796",
   "metadata": {},
   "outputs": [],
   "source": [
    "median_entrance_cocleogram = median_cocleogram(data,sujet=[1])"
   ]
  },
  {
   "cell_type": "markdown",
   "id": "44b93150",
   "metadata": {},
   "source": [
    "Création du réservoir"
   ]
  },
  {
   "cell_type": "code",
   "execution_count": 7,
   "id": "bfb1936b",
   "metadata": {},
   "outputs": [],
   "source": [
    "network = RecurrentNetwork(\n",
    "    W_in = Win,\n",
    "    W_rec = W,\n",
    "    W_out = Wo,\n",
    "    Ni = M, # Number of inputs\n",
    "    N = N, # Number of recurrent neurons\n",
    "    No = No, # Number of read-out neurons\n",
    "    tau = 25, # Time constant of the neurons\n",
    "    g = g, # Synaptic strength scaling\n",
    "    pc = pc, # Connection probability\n",
    "    Io = I0, # Noise variance\n",
    "    delta = 1.0, # Initial diagonal value of the P matrix                                 # ?\n",
    "    P_plastic = 0.6, # Percentage of neurons receiving plastic synapses                   # ?\n",
    ")"
   ]
  },
  {
   "cell_type": "markdown",
   "id": "b236964f",
   "metadata": {},
   "source": [
    "Détermination des trajectoires inées  "
   ]
  },
  {
   "cell_type": "code",
   "execution_count": 8,
   "id": "94f1c8c3",
   "metadata": {
    "scrolled": true
   },
   "outputs": [
    {
     "name": "stderr",
     "output_type": "stream",
     "text": [
      "100%|█████████████████████████████████████████████████████████████████████████████| 555/555 [00:00<00:00, 10420.93it/s]\n",
      "100%|█████████████████████████████████████████████████████████████████████████████| 448/448 [00:00<00:00, 11359.33it/s]\n",
      "100%|█████████████████████████████████████████████████████████████████████████████| 529/529 [00:00<00:00, 12784.34it/s]\n",
      "100%|█████████████████████████████████████████████████████████████████████████████| 638/638 [00:00<00:00, 12284.31it/s]\n",
      "100%|█████████████████████████████████████████████████████████████████████████████| 611/611 [00:00<00:00, 14679.34it/s]\n",
      "100%|█████████████████████████████████████████████████████████████████████████████| 688/688 [00:00<00:00, 13905.96it/s]\n",
      "100%|█████████████████████████████████████████████████████████████████████████████| 787/787 [00:00<00:00, 14767.35it/s]\n",
      "100%|█████████████████████████████████████████████████████████████████████████████| 794/794 [00:00<00:00, 12924.73it/s]\n",
      "100%|█████████████████████████████████████████████████████████████████████████████| 657/657 [00:00<00:00, 13692.64it/s]\n",
      "100%|█████████████████████████████████████████████████████████████████████████████| 712/712 [00:00<00:00, 16223.52it/s]\n"
     ]
    }
   ],
   "source": [
    "innate_trajectories_sensor = []\n",
    "innate_trajectories_motor = []\n",
    "for i in range(len(median_entrance_cocleogram)):\n",
    "    \n",
    "    #Récupération du cocleogram moyen\n",
    "    impulse = np.expand_dims(median_entrance_cocleogram[i], axis=2)\n",
    "    \n",
    "    #Récupération des trajectoires innées de l'époque sensorielle et de l'époque motricielle ???? \n",
    "    initial_trajectory, initial_output = network.simulate(stimulus=impulse, noise=False)\n",
    "    \n",
    "    #Ensuite on les trie\n",
    "    innate_trajectories_sensor.append(np.squeeze(initial_trajectory,axis = 2))\n",
    "    innate_trajectories_motor.append(np.squeeze(initial_output,axis = 2))"
   ]
  },
  {
   "cell_type": "markdown",
   "id": "851c15c7",
   "metadata": {},
   "source": [
    "#### Entrainement de l'epoque sensorielle."
   ]
  },
  {
   "cell_type": "markdown",
   "id": "da6a8114",
   "metadata": {},
   "source": [
    "Récupération des données d'entrées et des targets, ici on entraîne sur un sujet, 3 entrées et les 10 chiffres\n",
    "\n",
    "Attention : penser à rajouter du bruit !!!!"
   ]
  },
  {
   "cell_type": "code",
   "execution_count": 9,
   "id": "a34adbba",
   "metadata": {},
   "outputs": [],
   "source": [
    "X_input = []\n",
    "X_target = []\n",
    "for indS in [1] : \n",
    "    for indU in range(1,4):\n",
    "        for indD in range(10):\n",
    "            X_input.append(np.transpose(cocleogram(indS, indU, indD,data)))\n",
    "            X_target.append(linear_warping(indS,indU,indD,data,innate_trajectories_sensor[indD]))"
   ]
  },
  {
   "cell_type": "markdown",
   "id": "e5642fe7",
   "metadata": {},
   "source": [
    "Entrainement"
   ]
  },
  {
   "cell_type": "code",
   "execution_count": 10,
   "id": "62769ccc",
   "metadata": {
    "scrolled": true
   },
   "outputs": [],
   "source": [
    "def _rls(P, x, e):\n",
    "    \"\"\"Recursive Least Squares learning rule.\"\"\"\n",
    "    k = np.dot(P, x)\n",
    "    xPx = np.dot(x.T, k)\n",
    "    c = float(1.0 / (1.0 + xPx))\n",
    "    P = P - c * np.outer(k, k)\n",
    "    dw = -c * np.outer(e, k)\n",
    "\n",
    "    return dw, P\n"
   ]
  },
  {
   "cell_type": "markdown",
   "id": "8b8218b3",
   "metadata": {},
   "source": [
    "##### Test de RLS sans utiliser le noeud de reservoirpy"
   ]
  },
  {
   "cell_type": "code",
   "execution_count": 11,
   "id": "df8e7af3",
   "metadata": {},
   "outputs": [
    {
     "name": "stderr",
     "output_type": "stream",
     "text": [
      "30it [00:04,  6.61it/s]\n"
     ]
    }
   ],
   "source": [
    "P = np.identity(N)                                                  # matrice de gain ?\n",
    "x = np.random.normal(0,1,(N,1))                                     #etats initiaux du réservoir\n",
    "\n",
    "for xi,xt in tqdm(zip(X_input,X_target)):                         #entrainement\n",
    "    for t in range(len(xi)):                                           # pour 1 pas de temps \n",
    "        \n",
    "        x1 = (1-lr)*x + lr*np.tanh(np.dot(Win,np.expand_dims(xi[t], axis=1))+np.dot(W,x))   #calcul de x(t+1)\n",
    "        \n",
    "        e = np.expand_dims(xt[t],axis=1) - x1                       #calcul de l'erreur pour un seul pas de temps\n",
    "        \n",
    "        \n",
    "        dW,P = _rls(P, x1, e)                                       #calcul du rls pour un pas de temps \n",
    "        \n",
    "        W -= dW\n",
    "        \n"
   ]
  },
  {
   "cell_type": "markdown",
   "id": "b73ddcdf",
   "metadata": {},
   "source": [
    "###### Test de RLS en utilisant le noeud de reservoirpy"
   ]
  },
  {
   "cell_type": "code",
   "execution_count": 17,
   "id": "ffc211a0",
   "metadata": {},
   "outputs": [
    {
     "name": "stderr",
     "output_type": "stream",
     "text": [
      "0it [00:00, ?it/s]\n",
      "Running Reservoir-5:   0%|                                                                     | 0/531 [00:00<?, ?it/s]\u001b[A\n",
      "Running Reservoir-5:  20%|███████████▍                                             | 107/531 [00:00<00:00, 1065.76it/s]\u001b[A\n",
      "Running Reservoir-5:  40%|██████████████████████▉                                  | 214/531 [00:00<00:00, 1061.92it/s]\u001b[A\n",
      "Running Reservoir-5:  64%|████████████████████████████████████▍                    | 339/531 [00:00<00:00, 1146.70it/s]\u001b[A\n",
      "Running Reservoir-5: 100%|█████████████████████████████████████████████████████████| 531/531 [00:00<00:00, 1141.90it/s]\u001b[A\n",
      "1it [00:00,  1.63it/s]\n",
      "Running Reservoir-5:   0%|                                                                     | 0/448 [00:00<?, ?it/s]\u001b[A\n",
      "Running Reservoir-5: 100%|█████████████████████████████████████████████████████████| 448/448 [00:00<00:00, 3270.78it/s]\u001b[A\n",
      "2it [00:00,  2.50it/s]\n",
      "Running Reservoir-5:   0%|                                                                     | 0/529 [00:00<?, ?it/s]\u001b[A\n",
      "Running Reservoir-5: 100%|█████████████████████████████████████████████████████████| 529/529 [00:00<00:00, 4676.50it/s]\u001b[A\n",
      "3it [00:01,  3.25it/s]\n",
      "Running Reservoir-5:   0%|                                                                     | 0/638 [00:00<?, ?it/s]\u001b[A\n",
      "Running Reservoir-5: 100%|█████████████████████████████████████████████████████████| 638/638 [00:00<00:00, 5664.94it/s]\u001b[A\n",
      "4it [00:01,  3.36it/s]\n",
      "Running Reservoir-5:   0%|                                                                     | 0/611 [00:00<?, ?it/s]\u001b[A\n",
      "Running Reservoir-5:  48%|███████████████████████████▍                             | 294/611 [00:00<00:00, 2928.82it/s]\u001b[A\n",
      "Running Reservoir-5: 100%|█████████████████████████████████████████████████████████| 611/611 [00:00<00:00, 2993.57it/s]\u001b[A\n",
      "5it [00:01,  3.32it/s]\n",
      "Running Reservoir-5:   0%|                                                                     | 0/688 [00:00<?, ?it/s]\u001b[A\n",
      "Running Reservoir-5: 100%|█████████████████████████████████████████████████████████| 688/688 [00:00<00:00, 4975.61it/s]\u001b[A\n",
      "6it [00:01,  3.55it/s]\n",
      "Running Reservoir-5:   0%|                                                                     | 0/761 [00:00<?, ?it/s]\u001b[A\n",
      "Running Reservoir-5: 100%|█████████████████████████████████████████████████████████| 761/761 [00:00<00:00, 5948.46it/s]\u001b[A\n",
      "7it [00:02,  3.51it/s]\n",
      "Running Reservoir-5:   0%|                                                                     | 0/631 [00:00<?, ?it/s]\u001b[A\n",
      "Running Reservoir-5: 100%|█████████████████████████████████████████████████████████| 631/631 [00:00<00:00, 3455.74it/s]\u001b[A\n",
      "8it [00:02,  3.45it/s]\n",
      "Running Reservoir-5: 100%|█████████████████████████████████████████████████████████| 533/533 [00:00<00:00, 5576.77it/s]\u001b[A\n",
      "9it [00:02,  3.97it/s]\n",
      "Running Reservoir-5:   0%|                                                                     | 0/669 [00:00<?, ?it/s]\u001b[A\n",
      "Running Reservoir-5: 100%|█████████████████████████████████████████████████████████| 669/669 [00:00<00:00, 4031.62it/s]\u001b[A\n",
      "10it [00:02,  3.71it/s]\n",
      "Running Reservoir-5:   0%|                                                                     | 0/528 [00:00<?, ?it/s]\u001b[A\n",
      "Running Reservoir-5: 100%|█████████████████████████████████████████████████████████| 528/528 [00:00<00:00, 4278.51it/s]\u001b[A\n",
      "11it [00:03,  4.00it/s]\n",
      "Running Reservoir-5: 100%|█████████████████████████████████████████████████████████| 409/409 [00:00<00:00, 4909.02it/s]\u001b[A\n",
      "12it [00:03,  4.53it/s]\n",
      "Running Reservoir-5: 100%|█████████████████████████████████████████████████████████| 477/477 [00:00<00:00, 5128.08it/s]\u001b[A\n",
      "13it [00:03,  4.88it/s]\n",
      "Running Reservoir-5:   0%|                                                                     | 0/552 [00:00<?, ?it/s]\u001b[A\n",
      "Running Reservoir-5: 100%|█████████████████████████████████████████████████████████| 552/552 [00:00<00:00, 4073.23it/s]\u001b[A\n",
      "14it [00:03,  4.48it/s]\n",
      "Running Reservoir-5:   0%|                                                                     | 0/617 [00:00<?, ?it/s]\u001b[A\n",
      "Running Reservoir-5: 100%|█████████████████████████████████████████████████████████| 617/617 [00:00<00:00, 3751.87it/s]\u001b[A\n",
      "15it [00:04,  4.09it/s]\n",
      "Running Reservoir-5:   0%|                                                                     | 0/702 [00:00<?, ?it/s]\u001b[A\n",
      "Running Reservoir-5: 100%|█████████████████████████████████████████████████████████| 702/702 [00:00<00:00, 4130.03it/s]\u001b[A\n",
      "16it [00:04,  3.69it/s]\n",
      "Running Reservoir-5:   0%|                                                                     | 0/787 [00:00<?, ?it/s]\u001b[A\n",
      "Running Reservoir-5: 100%|█████████████████████████████████████████████████████████| 787/787 [00:00<00:00, 3948.85it/s]\u001b[A\n",
      "17it [00:04,  3.55it/s]\n",
      "Running Reservoir-5:   0%|                                                                     | 0/742 [00:00<?, ?it/s]\u001b[A\n",
      "Running Reservoir-5:  45%|█████████████████████████▌                               | 332/742 [00:00<00:00, 3314.83it/s]\u001b[A\n",
      "Running Reservoir-5: 100%|█████████████████████████████████████████████████████████| 742/742 [00:00<00:00, 3381.82it/s]\u001b[A\n",
      "18it [00:05,  3.24it/s]\n",
      "Running Reservoir-5: 100%|█████████████████████████████████████████████████████████| 566/566 [00:00<00:00, 5702.53it/s]\u001b[A\n",
      "19it [00:05,  3.68it/s]\n",
      "Running Reservoir-5:   0%|                                                                     | 0/712 [00:00<?, ?it/s]\u001b[A\n",
      "Running Reservoir-5:  49%|████████████████████████████▏                            | 352/712 [00:00<00:00, 3508.13it/s]\u001b[A\n",
      "Running Reservoir-5: 100%|█████████████████████████████████████████████████████████| 712/712 [00:00<00:00, 3352.61it/s]\u001b[A\n",
      "20it [00:05,  3.34it/s]\n",
      "Running Reservoir-5:   0%|                                                                     | 0/555 [00:00<?, ?it/s]\u001b[A\n",
      "Running Reservoir-5: 100%|█████████████████████████████████████████████████████████| 555/555 [00:00<00:00, 4044.31it/s]\u001b[A\n",
      "21it [00:05,  3.59it/s]\n",
      "Running Reservoir-5: 100%|█████████████████████████████████████████████████████████| 427/427 [00:00<00:00, 4842.48it/s]\u001b[A\n",
      "22it [00:06,  3.98it/s]\n",
      "Running Reservoir-5:   0%|                                                                     | 0/522 [00:00<?, ?it/s]\u001b[A\n",
      "Running Reservoir-5: 100%|█████████████████████████████████████████████████████████| 522/522 [00:00<00:00, 3355.88it/s]\u001b[A\n",
      "23it [00:06,  3.92it/s]\n",
      "Running Reservoir-5:   0%|                                                                     | 0/656 [00:00<?, ?it/s]\u001b[A\n",
      "Running Reservoir-5: 100%|█████████████████████████████████████████████████████████| 656/656 [00:00<00:00, 3930.47it/s]\u001b[A\n",
      "24it [00:06,  3.78it/s]\n",
      "Running Reservoir-5:   0%|                                                                     | 0/534 [00:00<?, ?it/s]\u001b[A\n",
      "Running Reservoir-5: 100%|█████████████████████████████████████████████████████████| 534/534 [00:00<00:00, 3919.77it/s]\u001b[A\n",
      "25it [00:06,  3.92it/s]\n",
      "Running Reservoir-5:   0%|                                                                     | 0/669 [00:00<?, ?it/s]\u001b[A\n",
      "Running Reservoir-5: 100%|█████████████████████████████████████████████████████████| 669/669 [00:00<00:00, 4066.27it/s]\u001b[A\n",
      "26it [00:07,  3.77it/s]\n",
      "Running Reservoir-5:   0%|                                                                     | 0/761 [00:00<?, ?it/s]\u001b[A\n",
      "Running Reservoir-5: 100%|█████████████████████████████████████████████████████████| 761/761 [00:00<00:00, 3842.51it/s]\u001b[A\n",
      "27it [00:07,  3.43it/s]\n",
      "Running Reservoir-5:   0%|                                                                     | 0/794 [00:00<?, ?it/s]\u001b[A\n",
      "Running Reservoir-5: 100%|█████████████████████████████████████████████████████████| 794/794 [00:00<00:00, 4934.23it/s]\u001b[A\n",
      "28it [00:07,  3.44it/s]\n",
      "Running Reservoir-5:   0%|                                                                     | 0/657 [00:00<?, ?it/s]\u001b[A\n",
      "Running Reservoir-5: 100%|█████████████████████████████████████████████████████████| 657/657 [00:00<00:00, 5140.81it/s]\u001b[A\n",
      "29it [00:07,  3.63it/s]\n",
      "Running Reservoir-5:   0%|                                                                     | 0/698 [00:00<?, ?it/s]\u001b[A\n"
     ]
    },
    {
     "name": "stderr",
     "output_type": "stream",
     "text": [
      "Running Reservoir-5: 100%|█████████████████████████████████████████████████████████| 698/698 [00:00<00:00, 4050.82it/s]\u001b[A\n",
      "30it [00:08,  3.60it/s]\n"
     ]
    }
   ],
   "source": [
    "reservoir = Reservoir(W=W,Win=Win)\n",
    "P = np.identity(N)           \n",
    "\n",
    "for xi,xt in tqdm(zip(X_input,X_target)):\n",
    "    x1 = reservoir.run(xi)\n",
    "    e = x1-xt\n",
    "    for t in range(len(x1)):\n",
    "        dW, P = _rls(P,x1[t],e[t])\n",
    "        W -= dW\n",
    "    reservoir.set_param(\"W\",W)\n",
    "    "
   ]
  },
  {
   "cell_type": "code",
   "execution_count": null,
   "id": "cf0b6236",
   "metadata": {},
   "outputs": [],
   "source": []
  }
 ],
 "metadata": {
  "kernelspec": {
   "display_name": "Python 3 (ipykernel)",
   "language": "python",
   "name": "python3"
  },
  "language_info": {
   "codemirror_mode": {
    "name": "ipython",
    "version": 3
   },
   "file_extension": ".py",
   "mimetype": "text/x-python",
   "name": "python",
   "nbconvert_exporter": "python",
   "pygments_lexer": "ipython3",
   "version": "3.8.5"
  }
 },
 "nbformat": 4,
 "nbformat_minor": 5
}
