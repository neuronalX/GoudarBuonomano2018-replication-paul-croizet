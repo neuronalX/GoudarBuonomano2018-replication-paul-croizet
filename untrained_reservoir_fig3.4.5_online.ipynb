{
 "cells": [
  {
   "cell_type": "code",
   "execution_count": 1,
   "id": "9cbdd40e",
   "metadata": {
    "scrolled": true
   },
   "outputs": [],
   "source": [
    "from functions_untrained_reservoir import *\n",
    "\n",
    "from reservoirpy.nodes import Reservoir,FORCE,Ridge\n",
    "from reservoirpy.mat_gen import Initializer\n",
    "from reservoirpy.observables import spectral_radius\n",
    "\n",
    "import numpy as np \n",
    "import matplotlib.pyplot as plt"
   ]
  },
  {
   "cell_type": "markdown",
   "id": "766c116a",
   "metadata": {},
   "source": [
    "### Réseaux de neurones"
   ]
  },
  {
   "cell_type": "markdown",
   "id": "732bf4b5",
   "metadata": {},
   "source": [
    "On cherche ici dans un premier temps à reprdoduire les figures les plus simples de l'article. \n",
    "\n",
    "Les mesures de l'article sont effectuées sur 2 réservoirs : \n",
    "\n",
    "  - le premier est dit entrainé : on va alors entrainer le réservoir et la sortie\n",
    "  - le second lui est dit non entrainé : on entraine seulement la sortie\n",
    "    \n",
    " Ce premier script s'intéresse donc à la reproduction de l'entrainement des figures 3, 4 et 5 ainsi qu'aux résultas obtenus sur un réservoir non entrainé.\n",
    " \n",
    "à noter, que la méthode d'entrainement utilisée pour ce script est une méthode dite online utilisant le noeud FORCE de ReservoirPy. Et qu'un autre script traite de la méthode offline pour pouvoir comparer les résultats obtenus."
   ]
  },
  {
   "cell_type": "markdown",
   "id": "4d855ee5",
   "metadata": {},
   "source": [
    "Données générales "
   ]
  },
  {
   "cell_type": "code",
   "execution_count": 2,
   "id": "1df91934",
   "metadata": {},
   "outputs": [],
   "source": [
    "data = extract_data() #Données d'entrée\n",
    "transcription = extract_target() #Données d'arrivée \n",
    "\n",
    "#Les données suivantes sont utilisés dans les fonctions mais pas dans le script ! \n",
    "\n",
    "freq_ent = 6*10**3  #fréquence d'entrée\n",
    "T_ent = 1/freq_ent  #période d'entrée\n",
    "\n",
    "freq_out = 10**3 #fréquence de sortie \n",
    "T_out = 1/freq_out #période de sortie\n",
    "\n",
    "ampl_int = 5 #Amplitude d'entrée"
   ]
  },
  {
   "cell_type": "markdown",
   "id": "3bdf2895",
   "metadata": {},
   "source": [
    "Données du réservoir"
   ]
  },
  {
   "cell_type": "code",
   "execution_count": 3,
   "id": "a2cdcbe3",
   "metadata": {},
   "outputs": [],
   "source": [
    "N = 210 #Nombre de neurones dans le réservoir\n",
    "M = 12 #Nombres d'entrées\n",
    "tau = 25*10e-3\n",
    "dt = 1e-3\n",
    "lr = dt/tau\n",
    "sr = 1.8 #spectral radius --> gain ?\n",
    "g = 1.6 #le gain du réseau ?                             #je comprends pas trop cette donnée. \n",
    "connectivity = 0.2 # connectivité entre les neurones (pc dans l'article)\n",
    "SD = g/np.sqrt(connectivity*N)\n",
    "mu = 0\n",
    "I0 = 0.005 #pendant l'entrainement de la sortie            #Non utilisée\n",
    "\n",
    "Wo = normal(loc=mu,scale = 1/np.sqrt(N))    #Matrice de sortie : Non utilisée\n"
   ]
  },
  {
   "cell_type": "markdown",
   "id": "c61bdeef",
   "metadata": {},
   "source": [
    "Création de la matrice du réservoir : avec pas d'autapses"
   ]
  },
  {
   "cell_type": "code",
   "execution_count": 4,
   "id": "83bb14d4",
   "metadata": {
    "scrolled": false
   },
   "outputs": [],
   "source": [
    "W_r.init = Initializer(W_r)"
   ]
  },
  {
   "cell_type": "markdown",
   "id": "b563f7ac",
   "metadata": {},
   "source": [
    "Création de la matrice d'entrée : chaque entrée k est projetée sur le neurone $(k-1)\\frac{N}{M} + 1$ jusqu'au neurone $k\\frac{N}{M}$ selon une loi normale "
   ]
  },
  {
   "cell_type": "code",
   "execution_count": 5,
   "id": "c5b2f3ff",
   "metadata": {
    "scrolled": true
   },
   "outputs": [],
   "source": [
    "Win = W_in(N,M)"
   ]
  },
  {
   "cell_type": "markdown",
   "id": "5c5d7801",
   "metadata": {},
   "source": [
    "## expérience\n",
    "\n",
    "Création des données pour l'entrainement"
   ]
  },
  {
   "cell_type": "code",
   "execution_count": 6,
   "id": "c99390f6",
   "metadata": {},
   "outputs": [],
   "source": [
    "X_input = []\n",
    "X_target = []\n",
    "for indS in [1] : \n",
    "    for indU in range(1,4):\n",
    "        for indD in range(10):\n",
    "            X_input.append(np.transpose(formatage_cocleogram(indS, indU, indD,data)))\n",
    "            X_target.append(target_xyz(indS, indU, indD,data))"
   ]
  },
  {
   "cell_type": "markdown",
   "id": "ab088583",
   "metadata": {},
   "source": [
    "Création du réservoir"
   ]
  },
  {
   "cell_type": "code",
   "execution_count": 7,
   "id": "ef6ad95c",
   "metadata": {},
   "outputs": [
    {
     "name": "stdout",
     "output_type": "stream",
     "text": [
      "1.8\n"
     ]
    }
   ],
   "source": [
    "reservoir_online, readout_online = Reservoir(units = N,\n",
    "                                               lr = lr,\n",
    "                                               sr=sr,\n",
    "                                               W=W_r.init,\n",
    "                                               Win=Win,\n",
    "                                               equation=\"external\",\n",
    "                                               input_bias=False,\n",
    "                                               noise_rc = I0), FORCE()\n",
    "esn_online = reservoir_online >> readout_online\n"
   ]
  },
  {
   "cell_type": "markdown",
   "id": "cc255eb6",
   "metadata": {},
   "source": [
    "Entrainement du réservoir"
   ]
  },
  {
   "cell_type": "code",
   "execution_count": 8,
   "id": "8ff1111b",
   "metadata": {
    "scrolled": true
   },
   "outputs": [
    {
     "name": "stdout",
     "output_type": "stream",
     "text": [
      "0\n",
      "1\n",
      "2\n",
      "3\n",
      "4\n",
      "5\n"
     ]
    },
    {
     "ename": "KeyboardInterrupt",
     "evalue": "",
     "output_type": "error",
     "traceback": [
      "\u001b[1;31m---------------------------------------------------------------------------\u001b[0m",
      "\u001b[1;31mKeyboardInterrupt\u001b[0m                         Traceback (most recent call last)",
      "Input \u001b[1;32mIn [8]\u001b[0m, in \u001b[0;36m<cell line: 2>\u001b[1;34m()\u001b[0m\n\u001b[0;32m      3\u001b[0m \u001b[38;5;28mprint\u001b[39m(i)\n\u001b[0;32m      4\u001b[0m \u001b[38;5;28;01mfor\u001b[39;00m j \u001b[38;5;129;01min\u001b[39;00m \u001b[38;5;28mrange\u001b[39m(\u001b[38;5;241m1\u001b[39m):\n\u001b[1;32m----> 5\u001b[0m     \u001b[43mesn_online\u001b[49m\u001b[38;5;241;43m.\u001b[39;49m\u001b[43mtrain\u001b[49m\u001b[43m(\u001b[49m\u001b[43mX_input\u001b[49m\u001b[43m[\u001b[49m\u001b[43mi\u001b[49m\u001b[43m]\u001b[49m\u001b[43m,\u001b[49m\u001b[43mX_target\u001b[49m\u001b[43m[\u001b[49m\u001b[43mi\u001b[49m\u001b[43m]\u001b[49m\u001b[43m,\u001b[49m\u001b[43mreset\u001b[49m\u001b[43m \u001b[49m\u001b[38;5;241;43m=\u001b[39;49m\u001b[43m \u001b[49m\u001b[38;5;28;43;01mTrue\u001b[39;49;00m\u001b[43m)\u001b[49m\n",
      "File \u001b[1;32m~\\anaconda3\\lib\\site-packages\\reservoirpy\\model.py:1017\u001b[0m, in \u001b[0;36mModel.train\u001b[1;34m(self, X, Y, force_teachers, learn_every, from_state, stateful, reset, return_states)\u001b[0m\n\u001b[0;32m   1014\u001b[0m \u001b[38;5;28mself\u001b[39m\u001b[38;5;241m.\u001b[39m_load_proxys()\n\u001b[0;32m   1016\u001b[0m \u001b[38;5;28;01mif\u001b[39;00m i \u001b[38;5;241m%\u001b[39m learn_every \u001b[38;5;241m==\u001b[39m \u001b[38;5;241m0\u001b[39m \u001b[38;5;129;01mor\u001b[39;00m \u001b[38;5;28mlen\u001b[39m(X) \u001b[38;5;241m==\u001b[39m \u001b[38;5;241m1\u001b[39m:\n\u001b[1;32m-> 1017\u001b[0m     \u001b[38;5;28;43mself\u001b[39;49m\u001b[38;5;241;43m.\u001b[39;49m\u001b[43m_train\u001b[49m\u001b[43m(\u001b[49m\u001b[38;5;28;43mself\u001b[39;49m\u001b[43m,\u001b[49m\u001b[43m \u001b[49m\u001b[43mx\u001b[49m\u001b[38;5;241;43m=\u001b[39;49m\u001b[43mx\u001b[49m\u001b[43m,\u001b[49m\u001b[43m \u001b[49m\u001b[43my\u001b[49m\u001b[38;5;241;43m=\u001b[39;49m\u001b[43my\u001b[49m\u001b[43m,\u001b[49m\u001b[43m \u001b[49m\u001b[43mforce_teachers\u001b[49m\u001b[38;5;241;43m=\u001b[39;49m\u001b[43mforce_teachers\u001b[49m\u001b[43m)\u001b[49m\n\u001b[0;32m   1019\u001b[0m \u001b[38;5;28;01mif\u001b[39;00m is_mapping(state):\n\u001b[0;32m   1020\u001b[0m     \u001b[38;5;28;01mfor\u001b[39;00m name, value \u001b[38;5;129;01min\u001b[39;00m state\u001b[38;5;241m.\u001b[39mitems():\n",
      "File \u001b[1;32m~\\anaconda3\\lib\\site-packages\\reservoirpy\\model.py:234\u001b[0m, in \u001b[0;36mtrain\u001b[1;34m(model, x, y, force_teachers)\u001b[0m\n\u001b[0;32m    232\u001b[0m \u001b[38;5;28;01mfor\u001b[39;00m node \u001b[38;5;129;01min\u001b[39;00m model\u001b[38;5;241m.\u001b[39mnodes:\n\u001b[0;32m    233\u001b[0m     \u001b[38;5;28;01mif\u001b[39;00m node\u001b[38;5;241m.\u001b[39mis_trained_online:\n\u001b[1;32m--> 234\u001b[0m         \u001b[43m_base\u001b[49m\u001b[38;5;241;43m.\u001b[39;49m\u001b[43mtrain\u001b[49m\u001b[43m(\u001b[49m\n\u001b[0;32m    235\u001b[0m \u001b[43m            \u001b[49m\u001b[43mnode\u001b[49m\u001b[43m,\u001b[49m\n\u001b[0;32m    236\u001b[0m \u001b[43m            \u001b[49m\u001b[43mdata\u001b[49m\u001b[43m[\u001b[49m\u001b[43mnode\u001b[49m\u001b[43m]\u001b[49m\u001b[38;5;241;43m.\u001b[39;49m\u001b[43mx\u001b[49m\u001b[43m,\u001b[49m\n\u001b[0;32m    237\u001b[0m \u001b[43m            \u001b[49m\u001b[43mdata\u001b[49m\u001b[43m[\u001b[49m\u001b[43mnode\u001b[49m\u001b[43m]\u001b[49m\u001b[38;5;241;43m.\u001b[39;49m\u001b[43my\u001b[49m\u001b[43m,\u001b[49m\n\u001b[0;32m    238\u001b[0m \u001b[43m            \u001b[49m\u001b[43mforce_teachers\u001b[49m\u001b[38;5;241;43m=\u001b[39;49m\u001b[43mforce_teachers\u001b[49m\u001b[43m,\u001b[49m\n\u001b[0;32m    239\u001b[0m \u001b[43m            \u001b[49m\u001b[43mcall_node\u001b[49m\u001b[38;5;241;43m=\u001b[39;49m\u001b[38;5;28;43;01mFalse\u001b[39;49;00m\u001b[43m,\u001b[49m\n\u001b[0;32m    240\u001b[0m \u001b[43m        \u001b[49m\u001b[43m)\u001b[49m\n",
      "File \u001b[1;32m~\\anaconda3\\lib\\site-packages\\reservoirpy\\_base.py:576\u001b[0m, in \u001b[0;36mtrain\u001b[1;34m(node, X, Y, call_node, force_teachers, learn_every, from_state, stateful, reset)\u001b[0m\n\u001b[0;32m    573\u001b[0m             node\u001b[38;5;241m.\u001b[39mset_state_proxy(y)\n\u001b[0;32m    575\u001b[0m         \u001b[38;5;28;01mif\u001b[39;00m i \u001b[38;5;241m%\u001b[39m learn_every \u001b[38;5;241m==\u001b[39m \u001b[38;5;241m0\u001b[39m \u001b[38;5;129;01mor\u001b[39;00m seq_len \u001b[38;5;241m==\u001b[39m \u001b[38;5;241m1\u001b[39m:\n\u001b[1;32m--> 576\u001b[0m             \u001b[43mnode\u001b[49m\u001b[38;5;241;43m.\u001b[39;49m\u001b[43m_train\u001b[49m\u001b[43m(\u001b[49m\u001b[43mnode\u001b[49m\u001b[43m,\u001b[49m\u001b[43m \u001b[49m\u001b[43mx\u001b[49m\u001b[38;5;241;43m=\u001b[39;49m\u001b[43mx\u001b[49m\u001b[43m,\u001b[49m\u001b[43m \u001b[49m\u001b[43my\u001b[49m\u001b[38;5;241;43m=\u001b[39;49m\u001b[43my\u001b[49m\u001b[43m)\u001b[49m\n\u001b[0;32m    578\u001b[0m         states[i, :] \u001b[38;5;241m=\u001b[39m s\n\u001b[0;32m    580\u001b[0m \u001b[38;5;28;01mreturn\u001b[39;00m states\n",
      "File \u001b[1;32m~\\anaconda3\\lib\\site-packages\\reservoirpy\\nodes\\force.py:56\u001b[0m, in \u001b[0;36mrls_like_train\u001b[1;34m(node, x, y)\u001b[0m\n\u001b[0;32m     53\u001b[0m error, r \u001b[38;5;241m=\u001b[39m _compute_error(node, x, y)\n\u001b[0;32m     55\u001b[0m P \u001b[38;5;241m=\u001b[39m node\u001b[38;5;241m.\u001b[39mP\n\u001b[1;32m---> 56\u001b[0m dw, P \u001b[38;5;241m=\u001b[39m \u001b[43m_rls_like_rule\u001b[49m\u001b[43m(\u001b[49m\u001b[43mP\u001b[49m\u001b[43m,\u001b[49m\u001b[43m \u001b[49m\u001b[43mr\u001b[49m\u001b[43m,\u001b[49m\u001b[43m \u001b[49m\u001b[43merror\u001b[49m\u001b[43m)\u001b[49m\n\u001b[0;32m     57\u001b[0m wo \u001b[38;5;241m=\u001b[39m _assemble_wout(node\u001b[38;5;241m.\u001b[39mWout, node\u001b[38;5;241m.\u001b[39mbias, node\u001b[38;5;241m.\u001b[39minput_bias)\n\u001b[0;32m     58\u001b[0m wo \u001b[38;5;241m=\u001b[39m wo \u001b[38;5;241m+\u001b[39m dw\u001b[38;5;241m.\u001b[39mT\n",
      "File \u001b[1;32m~\\anaconda3\\lib\\site-packages\\reservoirpy\\nodes\\force.py:25\u001b[0m, in \u001b[0;36m_rls_like_rule\u001b[1;34m(P, r, e)\u001b[0m\n\u001b[0;32m     23\u001b[0m \u001b[38;5;28;01mdef\u001b[39;00m \u001b[38;5;21m_rls_like_rule\u001b[39m(P, r, e):\n\u001b[0;32m     24\u001b[0m     \u001b[38;5;124;03m\"\"\"Recursive Least Squares learning rule.\"\"\"\u001b[39;00m\n\u001b[1;32m---> 25\u001b[0m     k \u001b[38;5;241m=\u001b[39m \u001b[43mnp\u001b[49m\u001b[38;5;241;43m.\u001b[39;49m\u001b[43mdot\u001b[49m\u001b[43m(\u001b[49m\u001b[43mP\u001b[49m\u001b[43m,\u001b[49m\u001b[43m \u001b[49m\u001b[43mr\u001b[49m\u001b[43m)\u001b[49m\n\u001b[0;32m     26\u001b[0m     rPr \u001b[38;5;241m=\u001b[39m np\u001b[38;5;241m.\u001b[39mdot(r\u001b[38;5;241m.\u001b[39mT, k)\n\u001b[0;32m     27\u001b[0m     c \u001b[38;5;241m=\u001b[39m \u001b[38;5;28mfloat\u001b[39m(\u001b[38;5;241m1.0\u001b[39m \u001b[38;5;241m/\u001b[39m (\u001b[38;5;241m1.0\u001b[39m \u001b[38;5;241m+\u001b[39m rPr))\n",
      "File \u001b[1;32m<__array_function__ internals>:180\u001b[0m, in \u001b[0;36mdot\u001b[1;34m(*args, **kwargs)\u001b[0m\n",
      "\u001b[1;31mKeyboardInterrupt\u001b[0m: "
     ]
    }
   ],
   "source": [
    "#entrainement du réservoir\n",
    "for i in range(len(X_input)) : \n",
    "    print(i)\n",
    "    for j in range(1):\n",
    "        esn_online.train(X_input[i],X_target[i],reset = True)"
   ]
  },
  {
   "cell_type": "markdown",
   "id": "ef56b4b0",
   "metadata": {},
   "source": [
    "Récupération des poids de sortie"
   ]
  },
  {
   "cell_type": "code",
   "execution_count": null,
   "id": "ee784307",
   "metadata": {},
   "outputs": [],
   "source": [
    "poids_sortie = readout_online.get_param(\"Wout\")\n",
    "plt.plot(np.transpose(poids_sortie))\n",
    "print(np.max(poids_sortie))"
   ]
  },
  {
   "cell_type": "markdown",
   "id": "1af75025",
   "metadata": {},
   "source": [
    "### Test 1 \n",
    "Test du réservoir sur des données d'entrainements"
   ]
  },
  {
   "cell_type": "markdown",
   "id": "287dbf21",
   "metadata": {},
   "source": [
    "###### 1 chiffre"
   ]
  },
  {
   "cell_type": "code",
   "execution_count": null,
   "id": "6c5602a8",
   "metadata": {},
   "outputs": [],
   "source": [
    "#Test du réservoir\n",
    "indS,indU,indD = 1,3,6\n",
    "X_test = np.transpose(formatage_cocleogram(indS,indU,indD,data))\n",
    "xyz = esn_online.run(X_test)\n",
    "    \n",
    "#récupération des états des neurones\n",
    "states = etat(reservoir_online,indS,indU,indD,data)\n",
    "\n",
    "#récupération de l'erreur commise\n",
    "erreur = error(xyz,indS,indU,indD,data)"
   ]
  },
  {
   "cell_type": "markdown",
   "id": "97f29f72",
   "metadata": {},
   "source": [
    "Affichage du résultat"
   ]
  },
  {
   "cell_type": "code",
   "execution_count": null,
   "id": "bf87dcd7",
   "metadata": {},
   "outputs": [],
   "source": [
    "#affichage des résultats\n",
    "affiche(xyz,indS,indU,indD,data,states,erreur,mode = \"online\",sr = sr,N=N,I0 = I0)"
   ]
  },
  {
   "cell_type": "markdown",
   "id": "9d597dbd",
   "metadata": {},
   "source": [
    "###### 10 chiffres"
   ]
  },
  {
   "cell_type": "code",
   "execution_count": null,
   "id": "7d3b87b3",
   "metadata": {},
   "outputs": [],
   "source": [
    "#Test du réservoir sur les 10 chiffres:\n",
    "liste_chiffre=[]\n",
    "indS, indU = 1,1\n",
    "for i in range(10):\n",
    "    X_test = np.transpose(formatage_cocleogram(indS,indU,i,data))\n",
    "    liste_chiffre.append(esn_online.run(X_test))"
   ]
  },
  {
   "cell_type": "markdown",
   "id": "08984470",
   "metadata": {},
   "source": [
    "Affichage du résultat"
   ]
  },
  {
   "cell_type": "code",
   "execution_count": null,
   "id": "bf32c1dd",
   "metadata": {},
   "outputs": [],
   "source": [
    "affiche_chiffre(liste_chiffre,indS,indU,data,mode=\"online\",sr = sr,N=N,I0 = I0)"
   ]
  },
  {
   "cell_type": "markdown",
   "id": "026d0e9b",
   "metadata": {},
   "source": [
    "### Test 2 \n",
    "On test le réservoir sur des données non entrainées"
   ]
  },
  {
   "cell_type": "markdown",
   "id": "e448b115",
   "metadata": {},
   "source": [
    "###### 1 chiffre"
   ]
  },
  {
   "cell_type": "code",
   "execution_count": null,
   "id": "670d977c",
   "metadata": {},
   "outputs": [],
   "source": [
    "#Test du réservoir\n",
    "indS,indU,indD = 1,4,6\n",
    "X_test = np.transpose(formatage_cocleogram(indS,indU,indD,data))\n",
    "xyz = esn_online.run(X_test)\n",
    "   \n",
    "#Récuperation des états des neurones\n",
    "states = etat(reservoir_online,indS,indU,indD,data)\n",
    "\n",
    "#Récupération de l'erreur commise (distance euclidienne ici)\n",
    "erreur = error(xyz,indS,indU,indD,data)"
   ]
  },
  {
   "cell_type": "markdown",
   "id": "1c1069c8",
   "metadata": {},
   "source": [
    "Affichage du chiffre"
   ]
  },
  {
   "cell_type": "code",
   "execution_count": null,
   "id": "936f8aa0",
   "metadata": {},
   "outputs": [],
   "source": [
    "affiche(xyz,indS,indU,indD,data,states,erreur,mode = \"online\",sr = sr,N=N,I0 = I0)"
   ]
  },
  {
   "cell_type": "markdown",
   "id": "83208631",
   "metadata": {},
   "source": [
    "###### 10 chiffres"
   ]
  },
  {
   "cell_type": "code",
   "execution_count": null,
   "id": "5acd84a7",
   "metadata": {},
   "outputs": [],
   "source": [
    "#Test du réservoir sur les 10 chiffres:\n",
    "liste_chiffre=[]\n",
    "indS, indU = 1,5\n",
    "for i in range(10):\n",
    "    X_test = np.transpose(formatage_cocleogram(indS,indU,i,data))\n",
    "    liste_chiffre.append(esn_online.run(X_test))"
   ]
  },
  {
   "cell_type": "markdown",
   "id": "5de19624",
   "metadata": {},
   "source": [
    "Affichage du résultat"
   ]
  },
  {
   "cell_type": "code",
   "execution_count": null,
   "id": "5291961e",
   "metadata": {
    "scrolled": false
   },
   "outputs": [],
   "source": [
    "affiche_chiffre(liste_chiffre,indS,indU,data,mode=\"online\",sr = sr,N=N,I0 = I0)"
   ]
  },
  {
   "cell_type": "markdown",
   "id": "02cf79eb",
   "metadata": {},
   "source": [
    "###### Ce qui a bloqué \n",
    "\n",
    "Informations pas claires, par exemple on ne sait pas trop quand utiliser le bruit ou non.\n",
    "Pas de schéma des résultats des réservoirs non entrainés, donc on ne peu pas juger de la cohérence de notre modèle."
   ]
  },
  {
   "cell_type": "markdown",
   "id": "7b30d477",
   "metadata": {},
   "source": [
    "# Conclusion\n",
    "\n",
    "Dans un premier temps nous avons voulu seulement entrainé la sortie de notre réseau. La sortie est entrainé avec une méthode online et avec du bruit (valeur non donnée) est continuellement injecté dans le réservoir pendant l'entrainement.\n",
    "De plus chaques données étaient entrainées 25 fois (ici je l'ai pas fais sinon mon ordinateur tourne pendant quelques heures).\n",
    "\n",
    "Nous avons pu remarquer que les résultats étaient peu cohérents avec la target.\n",
    "De plus, après des tests avec les mêmes valeurs sur un réservoir offline, on remarque que la méthode offline marche \"mieux\". En effet, avec la méthode online on a un overfitting durant l'apprentissage ce qui nécessite un bruit signifiant dans le réservoir mais qui conduit à des plus grandes perturbations.\n",
    "\n",
    "Les meilleurs résultats ont été obtenus à en changeant nombres de paramètres : \n",
    "\n",
    "   - Méthode d'apprentissage offline\n",
    "   - N = 210\n",
    "   - Le bruit a été fixé à 0 \n",
    "   - sr = 1.0\n",
    "   - Avec du biais\n",
    "   - Equation dite \"external\"\n",
    "    \n",
    "Evidemment toutes les combinaisons possibles n'ont pas été essayé.\n",
    "Les chiffres qu'on pouvait apercevoir étaient le 6 et le 5"
   ]
  }
 ],
 "metadata": {
  "kernelspec": {
   "display_name": "Python 3 (ipykernel)",
   "language": "python",
   "name": "python3"
  },
  "language_info": {
   "codemirror_mode": {
    "name": "ipython",
    "version": 3
   },
   "file_extension": ".py",
   "mimetype": "text/x-python",
   "name": "python",
   "nbconvert_exporter": "python",
   "pygments_lexer": "ipython3",
   "version": "3.8.5"
  }
 },
 "nbformat": 4,
 "nbformat_minor": 5
}
