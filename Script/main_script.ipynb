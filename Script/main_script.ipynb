{
 "cells": [
  {
   "cell_type": "code",
   "execution_count": 1,
   "id": "28b07877",
   "metadata": {},
   "outputs": [],
   "source": [
    "import sys \n",
    "sys.path.append(\"C:\\\\Users\\\\smoot\\\\Desktop\\\\Stage Mnemosyne\")"
   ]
  },
  {
   "cell_type": "code",
   "execution_count": 29,
   "id": "9cbdd40e",
   "metadata": {
    "scrolled": true
   },
   "outputs": [],
   "source": [
    "#Importation des différentes fonctions qui servent dans ce script\n",
    "\n",
    "import functions.functions_data as d\n",
    "import functions.functions_affichage as a\n",
    "import functions.functions_cocleogramme as c\n",
    "from functions.ReccurentNetwork import RecurrentNetwork\n",
    "\n",
    "from random import randint\n",
    "\n",
    "from IPython.display import clear_output\n",
    "\n",
    "from reservoirpy.nodes import Reservoir,FORCE,Ridge\n",
    "from reservoirpy.mat_gen import Initializer,_scale_spectral_radius,normal\n",
    "from reservoirpy.observables import spectral_radius\n",
    "from tqdm import tqdm\n",
    "\n",
    "from ReccurentNetwork import *\n",
    "\n",
    "import numpy as np\n",
    "import copy\n",
    "from numpy.linalg import eig\n",
    "\n",
    "import spicy as sp\n",
    "import matplotlib.pyplot as plt\n"
   ]
  },
  {
   "cell_type": "code",
   "execution_count": 3,
   "id": "bb2159d7",
   "metadata": {},
   "outputs": [],
   "source": [
    "#Code importé de ReservoirPy\n",
    "def _rls(P, x, e):\n",
    "    \"\"\"Recursive Least Squares learning rule.\"\"\"\n",
    "    k = np.dot(P, x)\n",
    "    xPx = np.dot(x.T, k)\n",
    "    c = float(1.0 / (1.0 + xPx))\n",
    "    P = P - c * np.outer(k, k)\n",
    "    dw = -c * np.outer(e, k)\n",
    "\n",
    "    return dw, P"
   ]
  },
  {
   "cell_type": "markdown",
   "id": "766c116a",
   "metadata": {},
   "source": [
    "# Réseaux de neurones"
   ]
  },
  {
   "cell_type": "markdown",
   "id": "2de295eb",
   "metadata": {},
   "source": [
    "On cherche ici dans un premier temps à reprdoduire les figures les plus simples de l'article. \n",
    "\n",
    "Les mesures de l'article sont effectuées sur 2 réservoirs $ : \n",
    "\n",
    "  - le premier est dit entrainé : on va alors entrainer le réservoir et la sortie\n",
    "  - le second lui est dit non entrainé : on entraine seulement la sortie\n",
    "    \n",
    "\n",
    "Ce premier script s'intéresse donc à la reproduction de l'entrainement des figures 3, 4 et 5 ainsi qu'aux résultas obtenus sur un réservoir entrainé.\n"
   ]
  },
  {
   "cell_type": "markdown",
   "id": "c3de139b",
   "metadata": {},
   "source": [
    "## Expériences"
   ]
  },
  {
   "cell_type": "markdown",
   "id": "cc245ab9",
   "metadata": {},
   "source": [
    "Deux expériences quasiment similaires sont proposés pour un réservoir totalement entrainé. La seule différence entre ces dernières sont le nombre de neurones utilisés dans le réservoir : \n",
    "\n",
    "   - Soit N = 2100 pour des résultats robustes entre toutes les données pour un sujet\n",
    "   - Soit N = 4000 pour des résultats robustes entre tous les sujets (5 au maximum)\n",
    "    \n",
    "Nous traiterons le premier  cas dans ce papier.\n",
    "\n",
    "##### Méthode d'entrainement\n",
    "\n",
    "Pour ce qui est de l'entrainement du réservoir nous allons procéder comme ceci : nous séparons notre entrée en deux parties : l'époque sensorielle et l'époque motricielle. \n",
    "\n",
    "###### Epoque sensorielle : \n",
    "\n",
    "Pour un sujet donné et parmit toutes les entrées différentes, pour chaque chiffre on selectionne une entrée moyenne. Cette entrée est injectée dans le réservoir sans bruit et sans target, on obtient alors une trajectoire resultante de taille (Timesteps x Nombre de neurones) pour chaque chiffre. Ces 10 trajectoires sont appelées les \"innate trajectories\" et seront les targets pour toutes les autres entrées durant l'entrainement du l'époque sensorielle en faisant bien attention à  ce que la dimension d'entrée des nouvelles entrées soit cohérente avec celle de l'innate trajectorie, on procédera alors pas une déformation linéaire de l'innate trajectory. De plus, du bruit sera présent durant l'entrainement.\n",
    "\n",
    "###### Epoque motrice\n",
    "\n",
    "On met dans le réservoir une matrice nulle (entrée à 0) et la target de l'époque motrice est l'activité autonome générée par le réservoir sur une durée comprenant la transition époque sensorielle/motrice et l'époque motrice.\n",
    "Pour récupérer notre matrice, on utilisera la fonction target_xyz avec comme paramètre, innate = True \n",
    "\n",
    "##### Entrainement\n",
    "\n",
    "On concatene maintenant l'innate trajectory de l'époque sensorielle et de l'époque motrice pour obtenir nos targets finales.\n",
    "\n",
    "À noter, que chaque entrainement et test commence à -100ms avec le réseau initialisé selon une loi uniform de -1 à 1.\n",
    "--> On laisse tourner le réservoir pendant 100ms à blanc ouis on met les entrées ????\n"
   ]
  },
  {
   "cell_type": "markdown",
   "id": "a6d87665",
   "metadata": {},
   "source": [
    "###### Test\n",
    "Les test effectués dans ce script seront fait sur le sujet 1"
   ]
  },
  {
   "cell_type": "markdown",
   "id": "1779b4b6",
   "metadata": {},
   "source": [
    "Données générales "
   ]
  },
  {
   "cell_type": "code",
   "execution_count": 4,
   "id": "1df91934",
   "metadata": {},
   "outputs": [],
   "source": [
    "data = d.extract_data() #Données d'entrée\n",
    "transcription = d.extract_target() #Données d'arrivée \n",
    "\n",
    "#Les données suivantes sont utilisés dans les fonctions mais pas dans le script ! \n",
    "\n",
    "freq_ent = 6*10**3  #fréquence d'entrée\n",
    "T_ent = 1/freq_ent  #période d'entrée\n",
    "\n",
    "freq_out = 10**3 #fréquence de sortie \n",
    "T_out = 1/freq_out #période de sortie\n",
    "\n",
    "ampl_int = 5 #Amplitude d'entrée"
   ]
  },
  {
   "cell_type": "markdown",
   "id": "3bdf2895",
   "metadata": {},
   "source": [
    "Données du réservoir"
   ]
  },
  {
   "cell_type": "code",
   "execution_count": 5,
   "id": "a2cdcbe3",
   "metadata": {},
   "outputs": [],
   "source": [
    "N = 2100//7 #Nombre de neurones dans le réservoir\n",
    "M = 12 #Nombres d'entrées\n",
    "No = 3 #Nombres de sorties\n",
    "tau = 25*10e-3\n",
    "dt = 1e-3\n",
    "lr = dt/tau\n",
    "sr = 1.6 #spectral radius --> gain ?\n",
    "g = 1.6 #le gain du réseau ?                             #je comprends pas trop cette donnée. \n",
    "pc = 0.2 # connectivité entre les neurones (pc dans l'article)\n",
    "SD = g/np.sqrt(pc*N)\n",
    "mu = 0\n",
    "I0 = 0.005\n",
    "biais = 0\n",
    "\n",
    "Wout = normal(No,N,loc=mu,scale = 1/np.sqrt(N))    #Matrice de sortie\n"
   ]
  },
  {
   "cell_type": "code",
   "execution_count": 6,
   "id": "af462afd",
   "metadata": {},
   "outputs": [
    {
     "data": {
      "text/plain": [
       "(3, 300)"
      ]
     },
     "execution_count": 6,
     "metadata": {},
     "output_type": "execute_result"
    }
   ],
   "source": [
    "np.shape(Wout)"
   ]
  },
  {
   "cell_type": "markdown",
   "id": "c61bdeef",
   "metadata": {},
   "source": [
    "Création de la matrice du réservoir : avec pas d'autapse\n",
    "Puis bricolage pour réxupérer le rayon spectral voulu"
   ]
  },
  {
   "cell_type": "code",
   "execution_count": 7,
   "id": "83bb14d4",
   "metadata": {
    "scrolled": false
   },
   "outputs": [],
   "source": [
    "c.W_r.init = Initializer(c.W_r)\n",
    "\n",
    "W = _scale_spectral_radius(c.W_r.init, [N,N], sr)\n",
    "W = W.toarray()"
   ]
  },
  {
   "cell_type": "markdown",
   "id": "b563f7ac",
   "metadata": {},
   "source": [
    "Création de la matrice d'entrée : chaque entrée k est projetée sur le neurone $(k-1)\\frac{N}{M} + 1$ jusqu'au neurone $k\\frac{N}{M}$ selon une loi normale "
   ]
  },
  {
   "cell_type": "code",
   "execution_count": 8,
   "id": "c5b2f3ff",
   "metadata": {
    "scrolled": true
   },
   "outputs": [],
   "source": [
    "Win = c.W_in(N,M)"
   ]
  },
  {
   "cell_type": "markdown",
   "id": "bcb81adc",
   "metadata": {},
   "source": [
    "Création des réservoirs"
   ]
  },
  {
   "cell_type": "code",
   "execution_count": 9,
   "id": "470cf951",
   "metadata": {},
   "outputs": [],
   "source": [
    "#Réservoir que l'on va entrainer\n",
    "W_reservoir = copy.deepcopy(W)\n",
    "reservoir_train = Reservoir(W=W_reservoir,Win=Win,equation='external',input_bias=False)\n",
    "\n",
    "#Réservoir que l'on ne va pas entrainer \n",
    "reservoir_innate = reservoir_train.copy()"
   ]
  },
  {
   "cell_type": "markdown",
   "id": "1741fc12",
   "metadata": {},
   "source": [
    "# Trajectoire inée "
   ]
  },
  {
   "cell_type": "markdown",
   "id": "97c54d12",
   "metadata": {},
   "source": [
    "Récupération des cocleograms avec une taille maximale pour chaque chiffre "
   ]
  },
  {
   "cell_type": "code",
   "execution_count": 10,
   "id": "1d0b5796",
   "metadata": {},
   "outputs": [],
   "source": [
    "#Liste qui va contenir tout les cocleogramme maximums pour chaque chiffre\n",
    "max_cocleogram =[]\n",
    "\n",
    "for i in range(10):\n",
    "    \n",
    "    #Récupération des indices du cocléogramme le plus grand du chiffre i\n",
    "    indS,indU,indD = c.ind_max_entrance(i,data)\n",
    "    \n",
    "    #Ajout à la liste\n",
    "    max_cocleogram.append(c.entrance_cocleogram(indS,indS,indD,data,transcription).T)"
   ]
  },
  {
   "cell_type": "markdown",
   "id": "b236964f",
   "metadata": {},
   "source": [
    "Détermination des trajectoires inées  "
   ]
  },
  {
   "cell_type": "code",
   "execution_count": 11,
   "id": "94f1c8c3",
   "metadata": {
    "scrolled": true
   },
   "outputs": [],
   "source": [
    "#Liste qui va contenir toutes les trajectoires innées\n",
    "innate_trajectories = []\n",
    "\n",
    "for i in range(len(max_cocleogram)):\n",
    "    \n",
    "    #Récupération des trajectoires innées \n",
    "    initial_trajectory = reservoir_innate.run(max_cocleogram[i])\n",
    "    \n",
    "    #Ensuite on les ajoute\n",
    "    innate_trajectories.append(initial_trajectory)\n",
    "\n",
    "clear_output()"
   ]
  },
  {
   "cell_type": "markdown",
   "id": "33a3c2e0",
   "metadata": {},
   "source": [
    "Activité de quelques neurones du réservoir sur les trajectoires innées"
   ]
  },
  {
   "cell_type": "code",
   "execution_count": 12,
   "id": "f1a0dc25",
   "metadata": {},
   "outputs": [
    {
     "data": {
      "text/plain": [
       "<matplotlib.colorbar.Colorbar at 0x1d391f23f70>"
      ]
     },
     "execution_count": 12,
     "metadata": {},
     "output_type": "execute_result"
    },
    {
     "data": {
      "image/png": "[encoded data removed]",
      "text/plain": [
       "<Figure size 1080x360 with 2 Axes>"
      ]
     },
     "metadata": {
      "needs_background": "light"
     },
     "output_type": "display_data"
    }
   ],
   "source": [
    "fig, ax = plt.subplots(figsize=(15,5))\n",
    "im = ax.pcolormesh(innate_trajectories[1][:,:100].T,cmap=\"jet\")\n",
    "fig.colorbar(im,ax = ax)"
   ]
  },
  {
   "cell_type": "markdown",
   "id": "0bbcbc8e",
   "metadata": {},
   "source": [
    "# Entrainement du réservoir "
   ]
  },
  {
   "cell_type": "markdown",
   "id": "4c29249d",
   "metadata": {},
   "source": [
    "Maintenant que les targets pour les différentes époques sont prêtes, il va falloir concaténer le tout. Donc pour chaque entrée, on va d'abord déformer linéairement la trajectoire innée de l'époque sensorielle, puis, on va ajouter la target de l'époque motrice en concaténant les matrices"
   ]
  },
  {
   "cell_type": "code",
   "execution_count": 13,
   "id": "04d5675c",
   "metadata": {},
   "outputs": [],
   "source": [
    "X_input = []\n",
    "X_target = []\n",
    "for indS in [1,1,1] : \n",
    "    for indU in range(1,4):\n",
    "        for indD in range(10):\n",
    "            #Ajout de l'input\n",
    "            X_input.append(np.transpose(c.entrance_cocleogram(indS, indU, indD,data,transcription)))\n",
    "            \n",
    "            #Récupération de la target\n",
    "            target = innate_trajectories[indD] \n",
    "\n",
    "            #Concaténation et ajout dans la target\n",
    "            X_target.append(target)"
   ]
  },
  {
   "cell_type": "markdown",
   "id": "50f5ffb9",
   "metadata": {},
   "source": [
    "# ReservoirPy"
   ]
  },
  {
   "cell_type": "markdown",
   "id": "4acd2bf2",
   "metadata": {},
   "source": [
    "Définition des valeurs qui vont me servir. Et, dans l'article, seulement 90% des connexions sont modifiées, je définis alors les indices qui ne seront pas modifés"
   ]
  },
  {
   "cell_type": "code",
   "execution_count": 14,
   "id": "581aea06",
   "metadata": {},
   "outputs": [],
   "source": [
    "#Matrice de gain\n",
    "P = np.identity(N)\n",
    "\n",
    "#Matrice de 0, permet de faire tourner le réservoir pendant 100 ms \n",
    "blanc = np.zeros((100,12))\n",
    "\n",
    "\n",
    "#Nombre de connexion qui ne devront pas changer\n",
    "nbr = int(N*0.1)\n",
    "\n",
    "#Les indices des connexions qui ne changeront pas \n",
    "indice_rows = [randint(0,N-1) for i in range(nbr)]\n",
    "indice_cols = [randint(0,N-1) for i in range(nbr)]"
   ]
  },
  {
   "cell_type": "markdown",
   "id": "dc8802b2",
   "metadata": {},
   "source": [
    "On laisse d'abord tourner le réservoir pendant 100ms (avec une période de 1ms), et on récupère l'état des neurones pour l'injecter dans un réservoir et commencer notre entrainement."
   ]
  },
  {
   "cell_type": "code",
   "execution_count": null,
   "id": "ff56a3fe",
   "metadata": {
    "scrolled": false
   },
   "outputs": [],
   "source": [
    "compt = 0\n",
    "error_total = []\n",
    "\n",
    "for xi,xt in tqdm(zip(X_input,X_target)):\n",
    "    \n",
    "    #On laisse d'abord le réservoir tourner à vide pendant 100 ms\n",
    "    #reservoir_train.run(blanc)\n",
    "    \n",
    "    #Ensuite on l'entraine\n",
    "    \n",
    "    duration = np.shape(xi)[0]\n",
    "    \n",
    "    #On calcul la sortie du réservoir pour une entrée xi est on obtient la matrice x1\n",
    "    for t in range(duration):\n",
    "    \n",
    "        x1 = reservoir_train.run(xi[t:t+1,:])\n",
    "        clear_output()\n",
    "    \n",
    "        #On calcul l'erreur entre la sortie du réservoir x1 et la valeur cible xt au temps t\n",
    "        e = x1-xt[t,:]\n",
    "    \n",
    "        #Calcul de la variation de W et de la matrice de gain\n",
    "        dW, P = _rls(P,x1.T,e)\n",
    "        \n",
    "        #On enlève 10% des changements\n",
    "        for r,col in zip(indice_rows,indice_cols):\n",
    "            dW[r,col] = 0\n",
    "        \n",
    "        #On enleve les poids réccurents (car des valeurs trop grandes)\n",
    "        for k in range(N):\n",
    "            dW[k,k] = 0\n",
    "        \n",
    "        #On modifie W\n",
    "        W_reservoir += dW\n",
    "        \n",
    "        #On injecte W dans le réservoir pour les nouveux calculs\n",
    "        reservoir_train.set_param(\"W\",W_reservoir)\n",
    "        \n",
    "        error_total.append(np.mean(e))\n",
    "        \n",
    "    \n",
    "    \n",
    "    compt += 1\n",
    "    \n",
    "    error_total.append(np.mean(e))\n",
    "    \n",
    "    print(\"entrainement {}, moyenne :{}\".format(compt,np.mean(e)))\n",
    "\n",
    "#Affichage de l'évolution des valeurs de l'erreur : \n",
    "plt.plot(error_total)"
   ]
  },
  {
   "cell_type": "markdown",
   "id": "55961eab",
   "metadata": {},
   "source": [
    "Affichage des valeurs propores :"
   ]
  },
  {
   "cell_type": "code",
   "execution_count": null,
   "id": "39203222",
   "metadata": {},
   "outputs": [],
   "source": [
    "a.eigein_value(W_reservoir,W,\"W_reservoir\",\"W\")"
   ]
  },
  {
   "cell_type": "markdown",
   "id": "933376d2",
   "metadata": {},
   "source": [
    "Réservoir après training :"
   ]
  },
  {
   "cell_type": "code",
   "execution_count": null,
   "id": "701384e9",
   "metadata": {},
   "outputs": [],
   "source": [
    "X_test = X_input[0]\n",
    "\n",
    "X_pred_training = reservoir_train.run(X_test)\n",
    "X_pred_pre_training = reservoir_innate.run(X_test)\n",
    "\n",
    "target = X_target[0]\n",
    "\n",
    "fig,ax = plt.subplots(figsize=(17,10),nrows = 3,ncols=2)\n",
    "\n",
    "for i in range(3):\n",
    "    neuron = randint(1,N)\n",
    "    ax[i,0].plot(X_pred_pre_training[:750,neuron],\"b\",label = \"etat pre-training du neurone \" + str(neuron))\n",
    "    ax[i,0].plot(target[:750,neuron],'--r',label = \"innate trajectories\")\n",
    "    ax[i,0].legend()\n",
    "    \n",
    "    ax[i,1].plot(X_pred_training[:750,neuron],\"b\",label = \"etat après training du neurone \" + str(neuron))\n",
    "    ax[i,1].plot(target[:750,neuron],'--r',label = \"innate trajectories\")\n",
    "    ax[i,1].legend()"
   ]
  },
  {
   "cell_type": "markdown",
   "id": "1551756b",
   "metadata": {},
   "source": [
    "Le réservoir est totalement saturé "
   ]
  },
  {
   "cell_type": "markdown",
   "id": "6367a0e5",
   "metadata": {},
   "source": [
    "Affichage de la matrice"
   ]
  },
  {
   "cell_type": "code",
   "execution_count": null,
   "id": "cf58b3d7",
   "metadata": {
    "scrolled": false
   },
   "outputs": [],
   "source": [
    "fig, ax0= plt.subplots(figsize=(10,10))\n",
    "\n",
    "im = ax0.pcolormesh(W_reservoir, cmap=\"jet\",)\n",
    "fig.colorbar(im, ax=ax0)\n"
   ]
  },
  {
   "cell_type": "markdown",
   "id": "fa4ddf69",
   "metadata": {},
   "source": [
    "# Entrainement de la sortie"
   ]
  },
  {
   "cell_type": "markdown",
   "id": "16a19a21",
   "metadata": {},
   "source": [
    "Création des données d'entrainement"
   ]
  },
  {
   "cell_type": "code",
   "execution_count": null,
   "id": "796e8137",
   "metadata": {},
   "outputs": [],
   "source": [
    "X_input = []\n",
    "X_target = []\n",
    "for indS in [1] : \n",
    "    for indU in range(1,4):\n",
    "        for indD in range(10):\n",
    "            #ajout de l'input\n",
    "            X_input.append(np.transpose(c.entrance_cocleogram(indS, indU, indD,data,transcription)))\n",
    "            \n",
    "            #ajout de la target\n",
    "            X_target.append(c.target_xyz(indS, indU, indD,data,transcription))"
   ]
  },
  {
   "cell_type": "markdown",
   "id": "90628fdb",
   "metadata": {},
   "source": [
    "On crée le modèle"
   ]
  },
  {
   "cell_type": "code",
   "execution_count": null,
   "id": "325ea227",
   "metadata": {},
   "outputs": [],
   "source": [
    "#Création des différents noeuds\n",
    "readout_train = FORCE()\n",
    "\n",
    "#Création du modèle complet\n",
    "model = reservoir_train >> readout_train"
   ]
  },
  {
   "cell_type": "markdown",
   "id": "e54f9560",
   "metadata": {},
   "source": [
    "Ensuite on entraine la sortie, normalement, chaque entrée est entrainée 25 fois"
   ]
  },
  {
   "cell_type": "code",
   "execution_count": null,
   "id": "f14d4c4e",
   "metadata": {},
   "outputs": [],
   "source": [
    "#Matrice vide\n",
    "blanc = np.zeros((100,12))\n",
    "\n",
    "#récupération des données 1 à 1\n",
    "for xi,xt in tqdm(zip(X_input,X_target)):\n",
    "    \n",
    "    #nombre de fois qu'on entraine une entrée \n",
    "    nbr_training = 1\n",
    "    \n",
    "    for nbr in range(nbr_training):\n",
    "        \n",
    "        #On fait d'abord tourner le réservoir à vide\n",
    "        reservoir_train.run(blanc)\n",
    "        \n",
    "        #Entrainement avec le noeud force : méthode online \n",
    "        model.train(xi,xt,reset = True)\n",
    "\n",
    "        \n",
    "    clear_output()"
   ]
  },
  {
   "cell_type": "markdown",
   "id": "e275ac0f",
   "metadata": {},
   "source": [
    "Une fois le réservoir entrainé, on le test sur 1 chiffre avec tout les détails."
   ]
  },
  {
   "cell_type": "code",
   "execution_count": null,
   "id": "353ede86",
   "metadata": {
    "scrolled": true
   },
   "outputs": [],
   "source": [
    "#Test du réservoir\n",
    "\n",
    "#Récupération d'un cocléogramme utilisé durant l'entrainement\n",
    "indS,indU,indD = 1,3,6\n",
    "X_test = np.transpose(c.entrance_cocleogram(indS,indU,indD,data,transcription))\n",
    "\n",
    "#On fait tourner le réservoir\n",
    "X_pred = model.run(X_test)\n",
    "    \n",
    "#récupération des états des neurones\n",
    "states = c.etat(reservoir_train,indS,indU,indD,data,transcription,1)\n",
    "\n",
    "#récupération de l'erreur commise sur la trajectoire d'un chiffre\n",
    "erreur= c.error(X_pred,indS,indU,indD,data,transcription)\n"
   ]
  },
  {
   "cell_type": "code",
   "execution_count": null,
   "id": "ed9c9598",
   "metadata": {},
   "outputs": [],
   "source": [
    "np.shape(X_pred)"
   ]
  },
  {
   "cell_type": "markdown",
   "id": "febccb2e",
   "metadata": {},
   "source": [
    "Affichage des résultats"
   ]
  },
  {
   "cell_type": "code",
   "execution_count": null,
   "id": "91b0f097",
   "metadata": {
    "scrolled": true
   },
   "outputs": [],
   "source": [
    "a.affiche(X_pred,indS,indU,indD,data,transcription,biais = 0,states = states,erreur = erreur,mode = \"Online\",sr = sr,I0=I0,N=N)"
   ]
  },
  {
   "cell_type": "markdown",
   "id": "f8f82cc9",
   "metadata": {},
   "source": [
    "Ensuite on le test sur les 10 chiffres du même sujet et sur la même entrée"
   ]
  },
  {
   "cell_type": "code",
   "execution_count": null,
   "id": "cba771d2",
   "metadata": {},
   "outputs": [],
   "source": [
    "#Récupération de l'entrée et du sujet\n",
    "indS,indU= 1,3\n",
    "\n",
    "chiffre_pred=[]\n",
    "\n",
    "#On calcule la prédictions pour chacun des 10 chiffres \n",
    "for i in range(10):\n",
    "    \n",
    "    #Récupération de l'entrée\n",
    "    X_test = np.transpose(c.entrance_cocleogram(indS,indU,i,data,transcription))\n",
    "    \n",
    "    #On fait tourner le réservoir\n",
    "    chiffre_pred.append(model.run(X_test))\n"
   ]
  },
  {
   "cell_type": "markdown",
   "id": "e75f7d37",
   "metadata": {},
   "source": [
    "Puis on affiche notre résultat"
   ]
  },
  {
   "cell_type": "code",
   "execution_count": null,
   "id": "004c9617",
   "metadata": {},
   "outputs": [],
   "source": [
    "a.affiche_chiffre(chiffre_pred,indS,indU,data,transcription,mode=\"online\",sr = sr,N=N,I0 = I0)"
   ]
  },
  {
   "cell_type": "markdown",
   "id": "59670bb5",
   "metadata": {},
   "source": [
    "### Test RLS avec code de Vitay"
   ]
  },
  {
   "cell_type": "markdown",
   "id": "ff64eeeb",
   "metadata": {},
   "source": [
    "Problème :\n",
    "  - déformation linéaire : ça met les valeurs de mes trajectoires innées au dessus de un et en dessous de -1 \n",
    "  - entrainement du RLS s'arrete quand l'erreur tend asymptotiquement vers une valeur "
   ]
  },
  {
   "cell_type": "code",
   "execution_count": null,
   "id": "4e5b5498",
   "metadata": {},
   "outputs": [],
   "source": [
    "####################\n",
    "# Create the network\n",
    "####################\n",
    "\n",
    "W_rec = copy.deepcopy(W)\n",
    "I0 = 0.05\n",
    "\n",
    "net = RecurrentNetwork(\n",
    "    W_in = Win,\n",
    "    W_rec = W_rec,\n",
    "    W_out = Wout,\n",
    "    Ni = M, # Number of inputs\n",
    "    N = N, # Number of recurrent neurons\n",
    "    No = No, # Number of read-out neurons\n",
    "    tau = 25.0, # Time constant of the neurons\n",
    "    g = 1.6, # Synaptic strength scaling\n",
    "    pc = 0.2, # Connection probability\n",
    "    Io = I0, # Noise variance\n",
    "    delta = 10.0, # Initial diagonal value of the P matrix\n",
    "    P_plastic = 0.9, # Percentage of neurons receiving plastic synapses\n",
    ")"
   ]
  },
  {
   "cell_type": "code",
   "execution_count": null,
   "id": "a8ecaf7e",
   "metadata": {},
   "outputs": [],
   "source": [
    "#Liste qui va contenir tout les cocleogramme maximums pour chaque chiffre\n",
    "max_cocleogram =[]\n",
    "\n",
    "for i in range(10):\n",
    "    \n",
    "    #Récupération des indices du cocléogramme le plus grand du chiffre i\n",
    "    indS,indU,indD = c.ind_max_entrance(i,data)\n",
    "    \n",
    "    #Ajout à la liste\n",
    "    max_cocleogram.append(c.entrance_cocleogram(indS,indS,indD,data,transcription,biais).T)"
   ]
  },
  {
   "cell_type": "code",
   "execution_count": null,
   "id": "809e4e39",
   "metadata": {},
   "outputs": [],
   "source": [
    "####################\n",
    "# Coordonnées innées\n",
    "####################\n",
    "\n",
    "#Liste qui va contenir toutes les trajectoires innées\n",
    "innate_trajectories = []\n",
    "\n",
    "for i in range(len(max_cocleogram)):\n",
    "    \n",
    "    #Récupération des trajectoires innées \n",
    "    stimulus = np.expand_dims(max_cocleogram[i],axis =2)\n",
    "    initial_trajectory, _, = net.simulate(stimulus = stimulus, noise = False)\n",
    "    \n",
    "    #Ensuite on les ajoute\n",
    "    innate_trajectories.append(initial_trajectory)\n",
    "\n",
    "clear_output()"
   ]
  },
  {
   "cell_type": "code",
   "execution_count": null,
   "id": "29a6b905",
   "metadata": {},
   "outputs": [],
   "source": [
    "alea = randint(0,9)\n",
    "affichage_innate = np.squeeze(innate_trajectories[alea],axis =2)\n",
    "plt.plot(affichage_innate)\n",
    "clear_output()\n",
    "print(alea)"
   ]
  },
  {
   "cell_type": "code",
   "execution_count": null,
   "id": "79b59d42",
   "metadata": {},
   "outputs": [],
   "source": [
    "####################\n",
    "# Données entrainement\n",
    "####################\n",
    "\n",
    "X_input_rc = []\n",
    "X_target_rc = []\n",
    "for indS in [1] : \n",
    "    for indU in range(1,4):\n",
    "        for indD in range(10):\n",
    "            #Récupération de l'Input\n",
    "            Input = np.expand_dims(c.entrance_cocleogram(indS, indU, indD,data,transcription,biais).T,axis =2)\n",
    "            \n",
    "            #Ajout\n",
    "            X_input_rc.append(Input)\n",
    "            \n",
    "            #Récupération de la target\n",
    "            target = innate_trajectories[indD] \n",
    "\n",
    "            #Ajout dans la target\n",
    "            X_target_rc.append(target)\n",
    "            \n",
    "            print(np.shape(Input),np.shape(target))\n",
    "            "
   ]
  },
  {
   "cell_type": "markdown",
   "id": "a392eec3",
   "metadata": {},
   "source": [
    "Récupération des états pre training"
   ]
  },
  {
   "cell_type": "code",
   "execution_count": null,
   "id": "3ad97320",
   "metadata": {},
   "outputs": [],
   "source": [
    "pre_training,_ = net.simulate(stimulus = X_input_rc[0])\n",
    "\n",
    "pre_training = np.squeeze(pre_training,axis = 2)\n",
    "\n",
    "pre_training_target = X_target_rc[0]\n"
   ]
  },
  {
   "cell_type": "markdown",
   "id": "045d4e21",
   "metadata": {},
   "source": [
    "Affichage des tout les états initiaux du réseau"
   ]
  },
  {
   "cell_type": "code",
   "execution_count": null,
   "id": "511e9ae2",
   "metadata": {},
   "outputs": [],
   "source": [
    "plt.plot(pre_training)\n",
    "clear_output()"
   ]
  },
  {
   "cell_type": "code",
   "execution_count": null,
   "id": "059f9a42",
   "metadata": {
    "scrolled": true
   },
   "outputs": [],
   "source": [
    "####################\n",
    "# Training reccurent weight\n",
    "####################\n",
    "\n",
    "nb_learning_trials_rec = len(X_input_rc)\n",
    "\n",
    "\n",
    "for i in tqdm(range(nb_learning_trials_rec)):\n",
    "    \n",
    "    print('Learning trial recurrent', i+1)\n",
    "\n",
    "    impulse = X_input_rc[i]\n",
    "    \n",
    "    target_rc = X_target_rc[i]\n",
    "    \n",
    "    print(np.shape(impulse),np.shape(target_rc))\n",
    "    \n",
    "    stop = np.shape(X_input_rc[i])[0]\n",
    "    \n",
    "    _, _ = net.simulate(stimulus=impulse,\n",
    "                        trajectory=target_rc,\n",
    "                        learn_start= 0,\n",
    "                        learn_stop=stop)\n",
    "    \n",
    "    clear_output()\n"
   ]
  },
  {
   "cell_type": "markdown",
   "id": "a2013d66",
   "metadata": {},
   "source": [
    "Récupération des données après entrainement et affichage"
   ]
  },
  {
   "cell_type": "code",
   "execution_count": null,
   "id": "574a7711",
   "metadata": {},
   "outputs": [],
   "source": [
    "post_training, _ = net.simulate(stimulus = X_input_rc[0])\n",
    "\n",
    "post_training = np.squeeze(post_training,axis =2)\n",
    "\n",
    "fig,ax = plt.subplots(figsize=(17,10),nrows = 4,ncols=2)\n",
    "\n",
    "for i in range(3):\n",
    "    neuron = randint(1,N)\n",
    "    ax[i,0].plot(pre_training[:,neuron],\"b\",label = \"etat pre-training du neurone \" + str(neuron))\n",
    "    ax[i,0].plot(pre_training_target[:,neuron],'--r',label = \"innate trajectories\")\n",
    "    ax[i,0].legend()\n",
    "    \n",
    "    ax[i,1].plot(post_training[:,neuron],\"b\",label = \"etat après training du neurone \" + str(neuron))\n",
    "    ax[i,1].plot(pre_training_target[:,neuron],'--r',label = \"innate trajectories\")\n",
    "    ax[i,1].legend()\n",
    "    \n",
    "\n",
    "ax[3,0].text(0,0,\"N = \"+str(N))\n",
    "ax[3,0].text(0,0.4,\"biais = \"+str(biais))\n",
    "ax[3,0].text(0,0.8,\"sr = \"+str(sr))\n",
    "ax[3,0].set_axis_off()\n",
    "\n",
    "ax[3,1].set_axis_off()"
   ]
  },
  {
   "cell_type": "markdown",
   "id": "86d365cf",
   "metadata": {},
   "source": [
    "Affichage des valeurs propres"
   ]
  },
  {
   "cell_type": "code",
   "execution_count": null,
   "id": "0509ab13",
   "metadata": {},
   "outputs": [],
   "source": [
    "A = getattr(net,\"W_rec\")\n",
    "a.eigein_value(A,W,\"W_rec\",\"W\")\n"
   ]
  },
  {
   "cell_type": "markdown",
   "id": "1f0a156c",
   "metadata": {},
   "source": [
    "Entrainement de la sortie"
   ]
  },
  {
   "cell_type": "markdown",
   "id": "fc2ec8fa",
   "metadata": {},
   "source": [
    "Récupération des données "
   ]
  },
  {
   "cell_type": "code",
   "execution_count": null,
   "id": "68456032",
   "metadata": {},
   "outputs": [],
   "source": [
    "X_input_out = []\n",
    "X_target_out = []\n",
    "for indS in [1] : \n",
    "    for indU in range(1,4):\n",
    "        for indD in range(10):\n",
    "            #ajout de l'input\n",
    "            input_out = np.expand_dims(np.transpose(c.entrance_cocleogram(indS, indU, indD,data,transcription,biais)),axis = 2)\n",
    "            \n",
    "            X_input_out.append(input_out)\n",
    "            \n",
    "            #ajout de la target\n",
    "            target_out = np.expand_dims(c.target_xyz(indS, indU, indD,data,transcription),axis =2)\n",
    "            \n",
    "            X_target_out.append(target_out)\n",
    "            \n",
    "            print(np.shape(input_out),np.shape(target_out))"
   ]
  },
  {
   "cell_type": "code",
   "execution_count": null,
   "id": "2fcb3a39",
   "metadata": {},
   "outputs": [],
   "source": [
    "np.shape(target_out[0,:,:])"
   ]
  },
  {
   "cell_type": "markdown",
   "id": "7b6ecade",
   "metadata": {},
   "source": [
    "Entrainement"
   ]
  },
  {
   "cell_type": "code",
   "execution_count": null,
   "id": "46e69faa",
   "metadata": {},
   "outputs": [],
   "source": [
    "####################\n",
    "# Training output weight\n",
    "####################\n",
    "\n",
    "nb_learning_trials_readout = len(X_input_out)\n",
    "\n",
    "\n",
    "for i in tqdm(range(nb_learning_trials_readout)):\n",
    "    \n",
    "    print('Learning trial readout', i+1)\n",
    "    \n",
    "    stop = np.shape(X_input_out[i])[0]\n",
    "    \n",
    "    impulse = X_input_out[i]\n",
    "    \n",
    "    target = X_target_out[i]\n",
    "    \n",
    "    _, _ = net.simulate(stimulus=impulse,\n",
    "                        trajectory=target,\n",
    "                        learn_start=0,\n",
    "                        learn_stop=stop,\n",
    "                        learn_readout=True)\n",
    "    \n",
    "    \n",
    "    clear_output()\n",
    "    \n",
    "plt.plot"
   ]
  },
  {
   "cell_type": "markdown",
   "id": "781b0ad6",
   "metadata": {},
   "source": [
    "Test du réservoir "
   ]
  },
  {
   "cell_type": "code",
   "execution_count": null,
   "id": "4f8c2611",
   "metadata": {},
   "outputs": [],
   "source": [
    "#Test du réservoir\n",
    "\n",
    "#Récupération d'un cocléogramme utilisé durant l'entrainement\n",
    "indS,indU,indD = 1,3,6\n",
    "X_test = np.transpose(c.entrance_cocleogram(indS,indU,indD,data,transcription,biais))\n",
    "X_test = np.expand_dims(X_test,axis =2)\n",
    "\n",
    "\n",
    "#On fait trner le réservoir\n",
    "X_state,X_output = net.simulate(stimulus = X_test)\n",
    "\n",
    "X_state = np.squeeze(X_state,axis =2)\n",
    "X_output = np.squeeze(X_output,axis =2)\n",
    "\n",
    "#récupération de l'erreur commise sur la trajectoire d'un chiffre\n",
    "erreur= c.error(X_output,indS,indU,indD,data,transcription)\n"
   ]
  },
  {
   "cell_type": "code",
   "execution_count": null,
   "id": "4f401b11",
   "metadata": {},
   "outputs": [],
   "source": [
    "a.affiche(X_output,indS,indU,indD,data,transcription,biais,X_state,erreur,mode = \"online\",sr = sr,N=N,I0 =I0 )"
   ]
  },
  {
   "cell_type": "markdown",
   "id": "3814d890",
   "metadata": {},
   "source": [
    "Affichage pour plusieurs chiffres"
   ]
  },
  {
   "cell_type": "code",
   "execution_count": null,
   "id": "d1cc53db",
   "metadata": {},
   "outputs": [],
   "source": [
    "#Récupération de l'entrée et du sujet\n",
    "indS,indU= 1,3\n",
    "\n",
    "chiffre_pred_rc=[]\n",
    "\n",
    "#On calcule la prédictions pour chacun des 10 chiffres \n",
    "for i in range(10):\n",
    "    \n",
    "    #Récupération de l'entrée\n",
    "    X_test_rc = np.expand_dims(c.entrance_cocleogram(indS,indU,i,data,transcription,biais).T,axis=2)\n",
    "    \n",
    "    #On fait tourner le réservoir\n",
    "    _,X_output = net.simulate(X_test_rc)\n",
    "    \n",
    "    X_output = np.squeeze(X_output,axis =2)\n",
    "    \n",
    "    #On ajoute à la liste\n",
    "    chiffre_pred_rc.append(X_output)\n"
   ]
  },
  {
   "cell_type": "code",
   "execution_count": null,
   "id": "1193a567",
   "metadata": {},
   "outputs": [],
   "source": [
    "a.affiche_chiffre(chiffre_pred_rc,indS,indU,data,transcription,mode=\"online\",sr = sr,N=N,I0 = I0,biais=biais)"
   ]
  }
 ],
 "metadata": {
  "kernelspec": {
   "display_name": "Python 3 (ipykernel)",
   "language": "python",
   "name": "python3"
  },
  "language_info": {
   "codemirror_mode": {
    "name": "ipython",
    "version": 3
   },
   "file_extension": ".py",
   "mimetype": "text/x-python",
   "name": "python",
   "nbconvert_exporter": "python",
   "pygments_lexer": "ipython3",
   "version": "3.8.5"
  }
 },
 "nbformat": 4,
 "nbformat_minor": 5
}
